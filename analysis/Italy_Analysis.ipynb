{
  "nbformat": 4,
  "nbformat_minor": 0,
  "metadata": {
    "colab": {
      "name": "Italy Analysis.ipynb",
      "provenance": [],
      "collapsed_sections": []
    },
    "kernelspec": {
      "name": "python3",
      "display_name": "Python 3"
    }
  },
  "cells": [
    {
      "cell_type": "markdown",
      "metadata": {
        "id": "6bu8frndR05s",
        "colab_type": "text"
      },
      "source": [
        "# Charting Italian Covid-19 Data"
      ]
    },
    {
      "cell_type": "code",
      "metadata": {
        "id": "1zttaalFl7gB",
        "colab_type": "code",
        "colab": {}
      },
      "source": [
        "from datetime import datetime, timedelta, timezone\n",
        "import dateutil.parser as du_parser\n",
        "import pandas as pd\n",
        "import eloader as el\n",
        "import eplotter as ep\n",
        "\n",
        "# load from the data loader helper\n",
        "(df_it_daily, df_it_regional_daily) = el.load_pcmdpc_it_data()\n",
        "\n",
        "# complete data with per-day differentials (the ones missing in the source dataset)\n",
        "el.add_canonical_differentials(df_it_daily)\n",
        "df_it_daily = el.cleanup_canonical(df_it_daily).drop(columns=['dateChecked'])\n",
        "el.add_canonical_differentials(df_it_regional_daily, daily_series_col='RegionName')\n",
        "df_it_regional_daily = el.cleanup_canonical(df_it_regional_daily).drop(columns=['dateChecked'])"
      ],
      "execution_count": 0,
      "outputs": []
    },
    {
      "cell_type": "markdown",
      "metadata": {
        "id": "8Hy34LkD_Ob6",
        "colab_type": "text"
      },
      "source": [
        "## Highlights"
      ]
    },
    {
      "cell_type": "code",
      "metadata": {
        "id": "9giAZoF_OULy",
        "colab_type": "code",
        "colab": {}
      },
      "source": [
        "# Daily change in Infected\n",
        "ep.scatter_plot_by_series(df_it_daily,\n",
        "    x_key='X', y_key='dInfectious', y_filter='expo',\n",
        "    series_key='CountryName',\n",
        "    title=\"Italy - daily increase in the Infected population\",\n",
        "    label_x=\"Day of 2020\", label_y=\"Infectious (today) - Infectious (yesterday)\",\n",
        "    stamp_1=\"Crossing below zero means the country is Healing\"\n",
        ")\n"
      ],
      "execution_count": 0,
      "outputs": []
    },
    {
      "cell_type": "code",
      "metadata": {
        "id": "Ou3kYcHOSTKX",
        "colab_type": "code",
        "colab": {}
      },
      "source": [
        "# Hospitalization count, by day\n",
        "ep.scatter_plot_by_series(df_it_daily,\n",
        "    x_key='X', y_key='Hospitalized', y_filter='expo',\n",
        "    series_key='CountryName',\n",
        "    title=\"Italy - Current Hospitalization by day\",\n",
        "    label_x=\"Day of 2020\", label_y=\"Hospitalized people\",\n",
        "    stamp_1=\"The peak was on April 9, 2020\"\n",
        ")"
      ],
      "execution_count": 0,
      "outputs": []
    },
    {
      "cell_type": "code",
      "metadata": {
        "id": "qnPpJP06Yo8p",
        "colab_type": "code",
        "colab": {}
      },
      "source": [
        "# Mortality by Region\n",
        "regions_by_death_rate = ep.rank_data_by_metric(df_it_regional_daily, metric='Death_rate', unique_key='RegionName')\n",
        "use_weeks = 6\n",
        "ep.scatter_plot_by_series(\n",
        "    df_it_regional_daily,\n",
        "    x_key='X', y_key='Death_rate',\n",
        "    series_key='RegionName', series_names=regions_by_death_rate['RegionName'],\n",
        "    # series_is_secondary=secondary_function, series_secondary_width=1,\n",
        "    y_filter='expo',\n",
        "    bounds=[el.date_to_day_of_year(datetime.now() - timedelta(days=7*use_weeks)), None, 2, 20],\n",
        "    legend_decimals=1, legend_suffix='%',\n",
        "    data_labels=\"legend\", data_labels_align='right',\n",
        "    title=\"Italian Regions: death rate, in the past \" + str(use_weeks) + \" weeks\",\n",
        "    label_x=\"Day of 2020\", label_y=\"Reported deaths / Confirmed cases (%)\",\n",
        ")\n",
        "#regions_by_death_rate"
      ],
      "execution_count": 0,
      "outputs": []
    },
    {
      "cell_type": "markdown",
      "metadata": {
        "id": "LhtEj1JPWZ-u",
        "colab_type": "text"
      },
      "source": [
        "## Regional - Normalized to the population (cases per 100,000)"
      ]
    },
    {
      "cell_type": "code",
      "metadata": {
        "id": "OB26H2uJ_TAr",
        "colab_type": "code",
        "colab": {}
      },
      "source": [
        "# population-normalized regional charts\n",
        "d1 = df_it_regional_daily\n",
        "norm_metrics = ['Confirmed', 'Infectious', 'Deaths', 'Hospitalized', 'Tampons', 'dHospitalized', 'dDeaths']\n",
        "norm_cols = []\n",
        "norm_base = 100000\n",
        "norm_base_text = ' per 100,000'\n",
        "for metric in norm_metrics:\n",
        "    d1[metric + norm_base_text] = d1[metric] / d1['Population'] * norm_base\n",
        "    norm_cols.append(metric + norm_base_text)\n",
        "\n",
        "for col in norm_cols:\n",
        "    auto_rank = ep.rank_data_by_metric(df_it_regional_daily, metric=col, unique_key='RegionName')\n",
        "    col_name = 'Daily ' + col[1:] if col.startswith('d') else col\n",
        "    ep.scatter_plot_by_series(df_it_regional_daily,\n",
        "        x_key='X', y_key=col, y_filter='expo',\n",
        "        series_key='RegionName', series_names=auto_rank['RegionName'],\n",
        "        title=\"Italy - \" + col_name,\n",
        "        label_x=\"Day of 2020\", label_y=col_name,\n",
        "    )\n"
      ],
      "execution_count": 0,
      "outputs": []
    },
    {
      "cell_type": "markdown",
      "metadata": {
        "id": "AAtiRU0vWkHr",
        "colab_type": "text"
      },
      "source": [
        "## Regions - Non-normalized to the population"
      ]
    },
    {
      "cell_type": "code",
      "metadata": {
        "id": "yGcVx3OSV3kW",
        "colab_type": "code",
        "colab": {}
      },
      "source": [
        "for col in ['Confirmed', 'Infectious', 'Deaths', 'Recovered', 'Hospitalized', 'Tampons', 'PeopleTested', 'dConfirmed', 'dInfectious', 'dDeaths', 'dRecovered', 'dHospitalized', 'dTampons']:\n",
        "    auto_rank = ep.rank_data_by_metric(df_it_regional_daily, metric=col, unique_key='RegionName')\n",
        "    col_name = '(new) Daily ' + col[1:] if col.startswith('d') else col\n",
        "    ep.scatter_plot_by_series(df_it_regional_daily,\n",
        "        x_key='X', y_key=col, y_filter='expo',\n",
        "        series_key='RegionName', series_names=auto_rank['RegionName'],\n",
        "        title=\"Italy - \" + col_name,\n",
        "        label_x=\"Day of 2020\", label_y=col_name,\n",
        "    )"
      ],
      "execution_count": 0,
      "outputs": []
    },
    {
      "cell_type": "markdown",
      "metadata": {
        "id": "xogHQ81QTu5b",
        "colab_type": "text"
      },
      "source": [
        "## Nationwide"
      ]
    },
    {
      "cell_type": "code",
      "metadata": {
        "id": "fqYuy3GrT2zA",
        "colab_type": "code",
        "colab": {}
      },
      "source": [
        "for col in ['Confirmed', 'Infectious', 'Deaths', 'Recovered', 'Hospitalized', 'Tampons', 'PeopleTested', 'dConfirmed', 'dInfectious', 'dDeaths', 'dRecovered', 'dHospitalized', 'dTampons']:\n",
        "    col_name = '(new) Daily ' + col[1:] if col.startswith('d') else col\n",
        "    ep.scatter_plot_by_series(df_it_daily,\n",
        "        x_key='X', y_key=col, y_filter='expo',\n",
        "        series_key='CountryName',\n",
        "        title=\"Italy - \" + col_name,\n",
        "        label_x=\"Day of 2020\", label_y=col_name,\n",
        "    )"
      ],
      "execution_count": 0,
      "outputs": []
    }
  ]
}