{
  "nbformat": 4,
  "nbformat_minor": 0,
  "metadata": {
    "colab": {
      "name": "example-one.ipynb",
      "provenance": [],
      "toc_visible": true
    },
    "kernelspec": {
      "name": "python3",
      "display_name": "Python 3"
    }
  },
  "cells": [
    {
      "cell_type": "markdown",
      "metadata": {
        "id": "0MUTFDI9vhF6",
        "colab_type": "text"
      },
      "source": [
        "Test 1.\n"
      ]
    },
    {
      "cell_type": "code",
      "metadata": {
        "id": "YYC0C3pJvcEI",
        "colab_type": "code",
        "colab": {}
      },
      "source": [
        "# copied and pasted from: https://matplotlib.org/3.2.1/gallery/lines_bars_and_markers/simple_plot.html\n",
        "import matplotlib.pyplot as plt\n",
        "import numpy as np\n",
        "\n",
        "t = np.arange(0.0, 2.0, 0.01)\n",
        "s = 1 + np.sin(2 * np.pi * t)\n",
        "\n",
        "fig, ax = plt.subplots()\n",
        "ax.plot(t, s)\n",
        "ax.set(xlabel='time (s)', ylabel='voltage (mV)',\n",
        "       title='About as simple as it gets, folks')\n",
        "ax.grid()\n",
        "fig.savefig(\"test.png\")\n",
        "plt.show()"
      ],
      "execution_count": 0,
      "outputs": []
    },
    {
      "cell_type": "code",
      "metadata": {
        "id": "PWUzPKo_EefL",
        "colab_type": "code",
        "colab": {
          "base_uri": "https://localhost:8080/",
          "height": 34
        },
        "outputId": "74d0b86a-d105-4b4f-a0d2-c3bdf9363051"
      },
      "source": [
        "!ls"
      ],
      "execution_count": 5,
      "outputs": [
        {
          "output_type": "stream",
          "text": [
            "sample_data  test.png\n"
          ],
          "name": "stdout"
        }
      ]
    },
    {
      "cell_type": "markdown",
      "metadata": {
        "id": "_rmBgjWJEfcc",
        "colab_type": "text"
      },
      "source": [
        "Image test\n",
        "![test](https://github.com/Covid-Analytics/covidanalytics.org/blob/master/analysis/images/test.png?raw=1)\n",
        "\n",
        "Im\n",
        "![test](https://github.com/Covid-Analytics/covidanalytics.org/blob/master/analysis/test.png?raw=1)\n",
        "\n",
        "A\n",
        "![test](https://github.com/Covid-Analytics/covidanalytics.org/blob/master/analysis/test.png?raw=1)\n"
      ]
    }
  ]
}