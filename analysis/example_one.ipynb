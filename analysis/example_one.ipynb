{
  "nbformat": 4,
  "nbformat_minor": 0,
  "metadata": {
    "colab": {
      "name": "example-one.ipynb",
      "provenance": []
    },
    "kernelspec": {
      "name": "python3",
      "display_name": "Python 3"
    }
  },
  "cells": [
    {
      "cell_type": "markdown",
      "metadata": {
        "id": "0MUTFDI9vhF6",
        "colab_type": "text"
      },
      "source": [
        "Test 1.\n"
      ]
    },
    {
      "cell_type": "code",
      "metadata": {
        "id": "YYC0C3pJvcEI",
        "colab_type": "code",
        "outputId": "79a2bd81-9a86-4341-e0e7-4b43a46d0f6c",
        "colab": {
          "base_uri": "https://localhost:8080/",
          "height": 295
        }
      },
      "source": [
        "# copied and pasted from: https://matplotlib.org/3.2.1/gallery/lines_bars_and_markers/simple_plot.html\n",
        "import matplotlib.pyplot as plt\n",
        "import numpy as np\n",
        "\n",
        "t = np.arange(0.0, 2.0, 0.01)\n",
        "s = 1 + np.sin(2 * np.pi * t)\n",
        "\n",
        "fig, ax = plt.subplots()\n",
        "ax.plot(t, s)\n",
        "ax.set(xlabel='time (s)', ylabel='voltage (mV)',\n",
        "       title='About as simple as it gets, folks')\n",
        "ax.grid()\n",
        "fig.savefig(\"test.png\")\n",
        "plt.show()"
      ],
      "execution_count": 1,
      "outputs": [
        {
          "output_type": "display_data",
          "data": {
            "image/png": "[encoded data removed]",
            "text/plain": [
              "<Figure size 432x288 with 1 Axes>"
            ]
          },
          "metadata": {
            "tags": []
          }
        }
      ]
    },
    {
      "cell_type": "code",
      "metadata": {
        "id": "PWUzPKo_EefL",
        "colab_type": "code",
        "colab": {
          "base_uri": "https://localhost:8080/",
          "height": 34
        },
        "outputId": "dbaed335-0bdd-4009-90fd-d2f4f8523e4c"
      },
      "source": [
        "!ls"
      ],
      "execution_count": 2,
      "outputs": [
        {
          "output_type": "stream",
          "text": [
            "sample_data  test.png\n"
          ],
          "name": "stdout"
        }
      ]
    },
    {
      "cell_type": "markdown",
      "metadata": {
        "id": "_rmBgjWJEfcc",
        "colab_type": "text"
      },
      "source": [
        "Image test\n",
        "![test](https://github.com/Covid-Analytics/covidanalytics.org/blob/master/analysis/images/test.png?raw=1)\n",
        "\n",
        "Im\n",
        "![test](https://github.com/Covid-Analytics/covidanalytics.org/blob/master/analysis/test.png?raw=1)\n",
        "\n",
        "A\n",
        "![test](https://github.com/Covid-Analytics/covidanalytics.org/blob/master/analysis/test.png?raw=1)\n"
      ]
    },
    {
      "cell_type": "code",
      "metadata": {
        "id": "fO5Rgu4vGEZi",
        "colab_type": "code",
        "colab": {
          "base_uri": "https://localhost:8080/",
          "height": 283
        },
        "outputId": "2aa5c1a7-7a82-4d9d-8356-98326d5019e0"
      },
      "source": [
        "import pandas as pd\n",
        "from datetime import datetime, timedelta\n",
        "\n",
        "# read the latest CSV file\n",
        "url = \"https://raw.githubusercontent.com/pcm-dpc/COVID-19/master/dati-andamento-nazionale/dpc-covid19-ita-andamento-nazionale.csv\"\n",
        "df = pd.read_csv(url)\n",
        "\n",
        "# select 2 columns, rename, and parse the date\n",
        "df = df.rename(columns={\"data\": 'day', \"totale_casi\": 'cases'})\n",
        "df = df.loc[:, ['day', 'cases']]\n",
        "first_day = datetime(2020, 1, 1) - timedelta(days=1)\n",
        "df['day'] = df['day'].map(lambda x: (datetime.strptime(x, '%Y-%m-%dT%H:%M:%S') - first_day).days)\n",
        "\n",
        "# the following block is just for displaying the input data, with some unused augmentation\n",
        "dfG = df.copy()\n",
        "dfG['cases_diff'] = dfG.diff()['cases']\n",
        "dfG['cases_growth_%'] = round(dfG['cases_diff'] / (dfG['cases'] - dfG['cases_diff']) * 100, 1)\n",
        "dfG['date'] = [first_day + timedelta(days = day) for day in dfG['day']]\n",
        "print(\"...data for the last 7 days\")\n",
        "dfG[-7:]"
      ],
      "execution_count": 3,
      "outputs": [
        {
          "output_type": "stream",
          "text": [
            "...data for the last 7 days\n"
          ],
          "name": "stdout"
        },
        {
          "output_type": "execute_result",
          "data": {
            "text/html": [
              "<div>\n",
              "<style scoped>\n",
              "    .dataframe tbody tr th:only-of-type {\n",
              "        vertical-align: middle;\n",
              "    }\n",
              "\n",
              "    .dataframe tbody tr th {\n",
              "        vertical-align: top;\n",
              "    }\n",
              "\n",
              "    .dataframe thead th {\n",
              "        text-align: right;\n",
              "    }\n",
              "</style>\n",
              "<table border=\"1\" class=\"dataframe\">\n",
              "  <thead>\n",
              "    <tr style=\"text-align: right;\">\n",
              "      <th></th>\n",
              "      <th>day</th>\n",
              "      <th>cases</th>\n",
              "      <th>cases_diff</th>\n",
              "      <th>cases_growth_%</th>\n",
              "      <th>date</th>\n",
              "    </tr>\n",
              "  </thead>\n",
              "  <tbody>\n",
              "    <tr>\n",
              "      <th>24</th>\n",
              "      <td>79</td>\n",
              "      <td>41035</td>\n",
              "      <td>5322.0</td>\n",
              "      <td>14.9</td>\n",
              "      <td>2020-03-19</td>\n",
              "    </tr>\n",
              "    <tr>\n",
              "      <th>25</th>\n",
              "      <td>80</td>\n",
              "      <td>47021</td>\n",
              "      <td>5986.0</td>\n",
              "      <td>14.6</td>\n",
              "      <td>2020-03-20</td>\n",
              "    </tr>\n",
              "    <tr>\n",
              "      <th>26</th>\n",
              "      <td>81</td>\n",
              "      <td>53578</td>\n",
              "      <td>6557.0</td>\n",
              "      <td>13.9</td>\n",
              "      <td>2020-03-21</td>\n",
              "    </tr>\n",
              "    <tr>\n",
              "      <th>27</th>\n",
              "      <td>82</td>\n",
              "      <td>59138</td>\n",
              "      <td>5560.0</td>\n",
              "      <td>10.4</td>\n",
              "      <td>2020-03-22</td>\n",
              "    </tr>\n",
              "    <tr>\n",
              "      <th>28</th>\n",
              "      <td>83</td>\n",
              "      <td>63927</td>\n",
              "      <td>4789.0</td>\n",
              "      <td>8.1</td>\n",
              "      <td>2020-03-23</td>\n",
              "    </tr>\n",
              "    <tr>\n",
              "      <th>29</th>\n",
              "      <td>84</td>\n",
              "      <td>69176</td>\n",
              "      <td>5249.0</td>\n",
              "      <td>8.2</td>\n",
              "      <td>2020-03-24</td>\n",
              "    </tr>\n",
              "    <tr>\n",
              "      <th>30</th>\n",
              "      <td>85</td>\n",
              "      <td>74386</td>\n",
              "      <td>5210.0</td>\n",
              "      <td>7.5</td>\n",
              "      <td>2020-03-25</td>\n",
              "    </tr>\n",
              "  </tbody>\n",
              "</table>\n",
              "</div>"
            ],
            "text/plain": [
              "    day  cases  cases_diff  cases_growth_%       date\n",
              "24   79  41035      5322.0            14.9 2020-03-19\n",
              "25   80  47021      5986.0            14.6 2020-03-20\n",
              "26   81  53578      6557.0            13.9 2020-03-21\n",
              "27   82  59138      5560.0            10.4 2020-03-22\n",
              "28   83  63927      4789.0             8.1 2020-03-23\n",
              "29   84  69176      5249.0             8.2 2020-03-24\n",
              "30   85  74386      5210.0             7.5 2020-03-25"
            ]
          },
          "metadata": {
            "tags": []
          },
          "execution_count": 3
        }
      ]
    },
    {
      "cell_type": "code",
      "metadata": {
        "id": "ZMgxaRa4GP0o",
        "colab_type": "code",
        "colab": {
          "base_uri": "https://localhost:8080/",
          "height": 307
        },
        "outputId": "8e04b5c0-2690-4d45-c7e7-d67478947e15"
      },
      "source": [
        "#@title { vertical-output: true, display-mode: \"form\" }\n",
        "dfg2 = dfG[-14:]\n",
        "x = dfg2['day'].tolist()\n",
        "y = dfg2['cases_growth_%'].tolist()\n",
        "\n",
        "import matplotlib.pyplot as plt\n",
        "plt.rc('font', size=14)\n",
        "plt.figure(figsize=(8, 4))\n",
        "plt_axes = plt.gca()\n",
        "plt_axes.grid(axis='y', color=(0.4, 0.4, 0.4), alpha=0.2)\n",
        "plt.stackplot(x, y, color=(0.92, 0.26, 0.21, 0.3), linewidth=0)\n",
        "plt.plot(x, y, color=(0.92, 0.26, 0.21), linewidth=2)\n",
        "plt.scatter(x, y, color=(0.92, 0.26, 0.21), label=\"Italy\", linewidth=3)\n",
        "plt.xlim(int(min(x)), int(max(x) + 5))\n",
        "plt.ylim(0, 60)\n",
        "plt.title(\"Daily increase in the infected population\")\n",
        "plt.xlabel(\"Day of the year, 2020\")\n",
        "plt.ylabel(\"Daily % increase\")\n",
        "plt.legend()\n",
        "plt.show()\n"
      ],
      "execution_count": 4,
      "outputs": [
        {
          "output_type": "display_data",
          "data": {
            "image/png": "[encoded data removed]",
            "text/plain": [
              "<Figure size 576x288 with 1 Axes>"
            ]
          },
          "metadata": {
            "tags": []
          }
        }
      ]
    }
  ]
}