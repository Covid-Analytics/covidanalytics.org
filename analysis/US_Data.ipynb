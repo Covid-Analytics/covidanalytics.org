{
  "nbformat": 4,
  "nbformat_minor": 0,
  "metadata": {
    "colab": {
      "name": "US Data.ipynb",
      "provenance": [],
      "collapsed_sections": [],
      "toc_visible": true
    },
    "kernelspec": {
      "name": "python3",
      "display_name": "Python 3"
    }
  },
  "cells": [
    {
      "cell_type": "markdown",
      "metadata": {
        "id": "lVy41Nu16ko4"
      },
      "source": [
        "# US Data Charting\n",
        "This workbooks analyzes and plots the latest US States data from the [COVID Tracking project](https://covidtracking.com/)."
      ]
    },
    {
      "cell_type": "code",
      "metadata": {
        "id": "aSFT9LD_XRKm",
        "cellView": "code"
      },
      "source": [
        "from datetime import datetime, timedelta, timezone\n",
        "import dateutil.parser as du_parser\n",
        "import pandas as pd\n",
        "import eloader as el\n",
        "import eplotter as ep\n",
        "\n",
        "# load from the data loader helper\n",
        "(df_regions_daily, df_regions_population) = el.load_opencovid19_data()\n",
        "(df_us_daily, df_us_states_daily, _) = el.load_covidtracking_us_data()\n",
        "(df_it_daily, _) = el.load_pcmdpc_it_data()\n",
        "\n",
        "# TEMP: remove france as it's spiking (on 6/15)\n",
        "# df_regions_daily = el.filter_rows_remove_equals(df_regions_daily, 'CountryName', 'France', 'spiking inconsistently')\n",
        "# TEMP: remove Ukraine as it has 2 modes (on 12/24/2020)\n",
        "df_regions_daily = df_regions_daily[df_regions_daily['CountryCode'] != 'UA']\n",
        "# TEMP: remove Iraq as it has 2 modes (on 12/28/2020)\n",
        "df_regions_daily = df_regions_daily[df_regions_daily['CountryName'] != 'Iraq']\n",
        "\n",
        "df_countries_daily = el.fuse_daily_sources(df_regions_daily, df_us_daily, df_it_daily)\n",
        "\n",
        "# add differentials to the dataset, and cleanup\n",
        "el.add_canonical_differentials(df_countries_daily)\n",
        "df_countries_daily = el.cleanup_canonical(df_countries_daily)\n",
        "df_countries_daily = df_countries_daily.drop(columns=['dateChecked'])\n",
        "\n",
        "# also add differentials to the US States set, and cleanup\n",
        "el.add_canonical_differentials(df_us_states_daily, daily_series_col='RegionName')\n",
        "df_us_states_daily = el.cleanup_canonical(df_us_states_daily)\n",
        "df_us_states_daily = df_us_states_daily.drop(columns=['dateChecked'])"
      ],
      "execution_count": null,
      "outputs": []
    },
    {
      "cell_type": "markdown",
      "metadata": {
        "id": "xFHxcdomP18o"
      },
      "source": [
        "## US Aggregate"
      ]
    },
    {
      "cell_type": "markdown",
      "metadata": {
        "id": "W51PjOPZknyf"
      },
      "source": [
        "Confirmed cases in the US. Other countries shown as references."
      ]
    },
    {
      "cell_type": "code",
      "metadata": {
        "id": "geAQ8xpJP2zx",
        "cellView": "both"
      },
      "source": [
        "# plot, ranked by Confirmed cases\n",
        "ranked_countries_by_confirmed_cases = ep.rank_data_by_metric(df_countries_daily, metric='Confirmed', unique_key='CountryCode')\n",
        "#ranked_countries_by_population = ep.rank_data_by_metric(df_countries_daily, metric='Population', unique_key='CountryCode', max_results=10)\n",
        "highlight_countries = ['United States of America', 'China', 'Italy', 'Spain', 'France', 'United Kingdom', 'South Korea', 'Japan', 'Brazil', 'India', 'Mexico', 'Nigeria', 'Russia', 'Chile']\n",
        "ep.scatter_plot_by_series(\n",
        "    df_countries_daily,\n",
        "    x_key='X', y_key='Confirmed',\n",
        "    series_key='CountryName', series_names=ranked_countries_by_confirmed_cases['CountryName'],\n",
        "    y_log=True,\n",
        "    # series_is_secondary=lambda df: df['CountryName'].any() not in list(ranked_countries_by_population['CountryName']),\n",
        "    series_is_secondary=lambda df: df['CountryName'].any() not in highlight_countries,\n",
        "    series_secondary_width=1,\n",
        "    bounds=[64, el.date_to_day_of_year(datetime.now()), 100, None],\n",
        "    # bounds=[64, None, 10000, None],\n",
        "    data_labels=\"legend\", data_labels_align='right',\n",
        "    line_style_non_first_series='dotted',\n",
        "    title='US: Confirmed Cases',\n",
        "    label_x=\"Day of 2020\",\n",
        "    stamp_1='Highlighted: highly populated or reference countries'\n",
        ")"
      ],
      "execution_count": null,
      "outputs": []
    },
    {
      "cell_type": "markdown",
      "metadata": {
        "id": "yFK6HFNqcIXi"
      },
      "source": [
        "Deaths count in the US versus the rest of the world. Significant comparison points highlighted."
      ]
    },
    {
      "cell_type": "code",
      "metadata": {
        "id": "r1V-VABHcHir"
      },
      "source": [
        "ep.scatter_plot_by_series(\n",
        "    df_countries_daily,\n",
        "    x_key='X', y_key='Deaths',\n",
        "    series_key='CountryName', series_names=ranked_countries_by_confirmed_cases['CountryName'],\n",
        "    y_log=True,\n",
        "    series_is_secondary=lambda df: df['CountryName'].any() not in highlight_countries or df['Confirmed'].iloc[-1] < 10000,\n",
        "    series_secondary_width=1,\n",
        "    bounds=[64, None, 1000, None],\n",
        "    data_labels=\"legend\", data_labels_align='right',\n",
        "    line_style_non_first_series='dotted',\n",
        "    title='US: confirmed Deaths',\n",
        "    label_x=\"Day of 2020\",\n",
        "    stamp_1='Highlighted: highly populated or reference countries'\n",
        ")"
      ],
      "execution_count": null,
      "outputs": []
    },
    {
      "cell_type": "markdown",
      "metadata": {
        "id": "D2pJE_6tlItz"
      },
      "source": [
        "### Table for US Aggregate data\n",
        "Last 20 days of aggregated data."
      ]
    },
    {
      "cell_type": "code",
      "metadata": {
        "id": "sn092bPJk52c"
      },
      "source": [
        "df_countries_daily[df_countries_daily['CountryCode'] == 'US'][-20:].drop(columns=['CountryCode', 'CountryName'])"
      ],
      "execution_count": null,
      "outputs": []
    },
    {
      "cell_type": "markdown",
      "metadata": {
        "id": "-9HqZ5t99xKU"
      },
      "source": [
        "## US States Charts"
      ]
    },
    {
      "cell_type": "markdown",
      "metadata": {
        "id": "MHbcZtOQuEh-"
      },
      "source": [
        "### Normalized by State Population"
      ]
    },
    {
      "cell_type": "markdown",
      "metadata": {
        "id": "dxyTF-NhqXCE"
      },
      "source": [
        "The following charts show the infection size normalized to the population of the state, to treat states equally and understand 'how many people per million' have been infected and eventually died. Secondarily, curves are shifted to the left to make everyone start from the starting point and be able to focus on trends independently on delays on the infection on states."
      ]
    },
    {
      "cell_type": "code",
      "metadata": {
        "id": "gO1fYItNDvmV"
      },
      "source": [
        "import math\n",
        "\n",
        "def join_with_population(df, regional_df):\n",
        "    df_reg = regional_df[['CountryCode', 'RegionCode', 'Population']]\n",
        "    return df.join(df_reg.set_index(['CountryCode', 'RegionCode']), on=['CountryCode', 'RegionCode'], lsuffix='left')\n",
        "\n",
        "\n",
        "def add_cases_per_million(df):\n",
        "    df['ConfirmedPerMillion'] = df['Confirmed'] / (df['Population'] / 1E+06)\n",
        "    df['DeathsPerMillion'] = df['Deaths'] / (df['Population'] / 1E+06)\n",
        "\n",
        "\n",
        "def add_cases_percent(df):\n",
        "    df['ConfirmedPercent'] = df['Confirmed'] / (df['Population'] / 1E+02)\n",
        "    df['DeathsPercent'] = df['Deaths'] / (df['Population'] / 1E+02)\n",
        "\n",
        "\n",
        "def ranked_scatter_plot(df, metric_col, series_col, is_selected=None, is_secondary=None, intersection_at=None,\n",
        "                        title=None, label_x=None, legend_decimals=None, legend_suffix=None, legend_off=False,\n",
        "                        data_labels='series', data_labels_align=\"center\", stamp_1=None):\n",
        "    # select the series items\n",
        "    df_selected = is_selected(df) if is_selected else df[df['Confirmed'] > 10000]\n",
        "    df_by_metric = ep.rank_data_by_metric(df_selected, metric=metric_col, unique_key=series_col)\n",
        "    y_max = int(math.ceil(10 * df_selected[metric_col].max() * 1.05)) / 10\n",
        "\n",
        "    # if intersection, label things differently\n",
        "    if not title:\n",
        "        title = metric_col + \" by \" + series_col\n",
        "        if intersection_at: title = title + ', since crossing ' + str(intersection_at)\n",
        "    if not label_x:\n",
        "        label_x = 'Days since crossing ' + str(intersection_at)\n",
        "\n",
        "    # plot\n",
        "    ep.scatter_plot_by_series(\n",
        "        df, x_key='X', y_key=metric_col,\n",
        "        series_key=series_col, series_names=df_by_metric[series_col],\n",
        "        series_is_secondary=is_secondary if is_secondary else (lambda df: df['Population'].iloc[-1] < 1E+05 or df['Confirmed'].iloc[-1] < 8000),\n",
        "        series_secondary_width=1,\n",
        "        shift_x_to_intersect_y=intersection_at,\n",
        "        bounds=[None, el.current_day_of_year() - (60 if legend_off == True else 0), 0, y_max],\n",
        "        legend_decimals=legend_decimals, legend_suffix=legend_suffix, legend_off=legend_off,\n",
        "        data_labels=data_labels, data_labels_align=data_labels_align,\n",
        "        title=title, label_x=label_x, stamp_1=stamp_1,\n",
        "    )\n",
        "\n",
        "\n",
        "# get the population, and continue where not zero\n",
        "df_pop_norm = join_with_population(df_us_states_daily, df_regions_population)\n",
        "df_pop_norm = df_pop_norm[df_pop_norm['Population'].notna()]\n",
        "add_cases_per_million(df_pop_norm)\n",
        "add_cases_percent(df_pop_norm)"
      ],
      "execution_count": null,
      "outputs": []
    },
    {
      "cell_type": "code",
      "metadata": {
        "id": "xZXCuKx4qmX0"
      },
      "source": [
        "# plot Confirmed %\n",
        "intersection_pct = 0.5\n",
        "intersection_at = intersection_pct\n",
        "# intersection_at = int(intersection_pct * 1E+06 / 100)\n",
        "ranked_scatter_plot(df_pop_norm, 'ConfirmedPercent', 'RegionName', intersection_at=intersection_at,\n",
        "                    title='Positive %, by US State, since crossing ' + str(intersection_at) + '%',\n",
        "                    is_secondary=(lambda df: False), # disable secondary, show all 50 states\n",
        "                    legend_decimals=2, legend_suffix='%', legend_off=True,\n",
        "                    data_labels='legend',\n",
        "                    stamp_1='Total Cases / Population',\n",
        "                    label_x='Days since crossing ' + str(intersection_at) + '%')"
      ],
      "execution_count": null,
      "outputs": []
    },
    {
      "cell_type": "code",
      "metadata": {
        "id": "hO03B8UGqm0L"
      },
      "source": [
        "# plot Deaths per Million, after x%\n",
        "# intersection_pct = 0.001\n",
        "# intersection_at = int(intersection_pct * 1E+06 / 100)\n",
        "ranked_scatter_plot(df_pop_norm, 'DeathsPerMillion', 'RegionName', \n",
        "                    # intersection_at=intersection_at,\n",
        "                    title='Deaths per Million, by US State',\n",
        "                    stamp_1='Total Deaths / Population (per Million)',\n",
        "                    legend_decimals=0, data_labels_align=\"right\",\n",
        "                    label_x='Day of 2020')"
      ],
      "execution_count": null,
      "outputs": []
    },
    {
      "cell_type": "markdown",
      "metadata": {
        "id": "2I5iPpqsvAJH"
      },
      "source": [
        "This chart shows the mortality rate, defined as: Deaths / Total Positives. There are multiple factors to take into account on the numerator (in particular non-attributed deaths) and on the denominator (for example low-symptomatic cases, and non-tested cases) so the real values for the death rates are probably different.\n",
        "\n",
        "For now this is a baseline estimation given the numbers we have."
      ]
    },
    {
      "cell_type": "code",
      "metadata": {
        "id": "WGbtsovrvSLg"
      },
      "source": [
        "# states with the highest Confirmed\n",
        "regions_by_cases = ep.rank_data_by_metric(df_us_states_daily, metric='Confirmed', unique_key='RegionName')\n",
        "confirmed_top_count = regions_by_cases['Confirmed'].iloc[0].astype(int)\n",
        "confirmed_sec_threshold = round(confirmed_top_count / 30)\n",
        "secondary_function = lambda df: df['Confirmed'].iloc[-1] < confirmed_sec_threshold"
      ],
      "execution_count": null,
      "outputs": []
    },
    {
      "cell_type": "code",
      "metadata": {
        "id": "Zg4aEE_qvAhb"
      },
      "source": [
        "# Mortality\n",
        "regions_by_death_rate = ep.rank_data_by_metric(df_us_states_daily, metric='Death_rate', unique_key='RegionName')\n",
        "ep.scatter_plot_by_series(\n",
        "    df_us_states_daily,\n",
        "    x_key='X', y_key='Death_rate',\n",
        "    series_key='RegionName', series_names=regions_by_death_rate['RegionName'],\n",
        "    series_is_secondary=secondary_function, series_secondary_width=1,\n",
        "    y_filter='expo',\n",
        "    bounds=[el.current_day_of_year() - 7*12, None, 0, 10],\n",
        "    legend_decimals=1, legend_suffix='%',\n",
        "    data_labels=\"legend\", data_labels_align='right',\n",
        "    title=\"Death rate by US State, in the last 8 weeks\",\n",
        "    label_x=\"Day of 2020\", label_y=\"Reported deaths / Confirmed cases (percent)\",\n",
        "    stamp_1=\"Grayed-out: states with low case count yet\"\n",
        ")"
      ],
      "execution_count": null,
      "outputs": []
    },
    {
      "cell_type": "markdown",
      "metadata": {
        "id": "aTuTL37PuNrc"
      },
      "source": [
        "### In Absolute Numbers"
      ]
    },
    {
      "cell_type": "markdown",
      "metadata": {
        "id": "WKrx2_gGqnPb"
      },
      "source": [
        "The following charts are for Confirmed cases. The first represents the total number of people declared 'Positive' (which can happen even after death). Note that the statistics do not include non-observable numbers such as deaths that are now tested for the virus or people that had low symptoms and did not get tested."
      ]
    },
    {
      "cell_type": "code",
      "metadata": {
        "id": "AVJ6Kjft90Cf",
        "cellView": "code"
      },
      "source": [
        "# [plot] Days sice Case 20000, log\n",
        "case_intersection = 50000\n",
        "ep.scatter_plot_by_series(\n",
        "    df_us_states_daily,\n",
        "    x_key='X', y_key='Confirmed',\n",
        "    series_key='RegionName', series_names=regions_by_cases['RegionName'],\n",
        "    series_is_secondary=secondary_function,\n",
        "    shift_x_to_intersect_y=case_intersection,\n",
        "    y_log=True,\n",
        "    bounds=[None, (el.current_day_of_year() - 66) * 1.5, None, None],\n",
        "    data_labels=\"series\", data_labels_align=\"center\",\n",
        "    title='Confirmed Cases since case ' + str(case_intersection) + ', by US State',\n",
        "    label_x='Days since case ' + str(case_intersection),\n",
        "    stamp_1=\"Grayed-out: low case count for now\"\n",
        ")"
      ],
      "execution_count": null,
      "outputs": []
    },
    {
      "cell_type": "markdown",
      "metadata": {
        "id": "k1f7nhBWNPqZ"
      },
      "source": [
        "This chart tries to bring the curves together at case #500, to see the difference in regional behavior after hitting that infection size."
      ]
    },
    {
      "cell_type": "code",
      "metadata": {
        "id": "jD-rBknFNQLo"
      },
      "source": [
        "# [plot] Day of the year, all series, higher than 100\n",
        "weeks = 16\n",
        "last_day = el.current_day_of_year()\n",
        "first_day = last_day - 6*weeks\n",
        "ep.scatter_plot_by_series(\n",
        "    df_us_states_daily,\n",
        "    x_key='X', y_key='Confirmed',\n",
        "    series_key='RegionName', series_names=regions_by_cases['RegionName'],\n",
        "    series_is_secondary=secondary_function,\n",
        "    series_secondary_width=1,\n",
        "    y_log=True, y_filter='expo',\n",
        "    bounds=[first_day, last_day, 12000, None],\n",
        "    legend_off=True,\n",
        "    data_labels=\"legend\", data_labels_align='right',\n",
        "    title='Confirmed cases by US State, last ' + str(weeks) + ' weeks',\n",
        "    label_x=\"Day of 2020\",\n",
        "    stamp_1=\"Grayed-out: low case count\"\n",
        ")"
      ],
      "execution_count": null,
      "outputs": []
    },
    {
      "cell_type": "markdown",
      "metadata": {
        "id": "jTCrkrI3rnu0"
      },
      "source": [
        "This chart shows deaths by state by time."
      ]
    },
    {
      "cell_type": "code",
      "metadata": {
        "id": "veIY9C5CrnVH"
      },
      "source": [
        "# [plot] Day of the year, all series, higher than 100\n",
        "ep.scatter_plot_by_series(\n",
        "    df_us_states_daily,\n",
        "    x_key='X', y_key='Deaths',\n",
        "    series_key='RegionName', series_names=regions_by_cases['RegionName'],\n",
        "    series_is_secondary=secondary_function,\n",
        "    series_secondary_width=1,\n",
        "    y_log=True, y_filter='expo',\n",
        "    bounds=[first_day, last_day, 500, None],\n",
        "    legend_off=True,\n",
        "    data_labels=\"legend\", data_labels_align='right',\n",
        "    title='Deaths by US State, last ' + str(weeks) + ' weeks',\n",
        "    label_x=\"Day of 2020\",\n",
        "    stamp_1=\"Grayed-out: low case count\"\n",
        ")"
      ],
      "execution_count": null,
      "outputs": []
    },
    {
      "cell_type": "markdown",
      "metadata": {
        "id": "FnYeIkij53oC"
      },
      "source": [
        "## Nationwide plots"
      ]
    },
    {
      "cell_type": "code",
      "metadata": {
        "id": "JbQhpRhB59H_"
      },
      "source": [
        "#df_countries_daily['dCases/Tests'] = df_countries_daily['dConfirmed'] / df_countries_daily['dTampons']\n",
        "\n",
        "# redefining df_us_daily using the countries, as it's been cleaned up and daily canonicals have been added\n",
        "df_us_daily = df_countries_daily[df_countries_daily['CountryCode'] == 'US']\n",
        "\n",
        "#all_cols = ['Confirmed', 'Infectious', 'Deaths', 'Recovered', 'Hospitalized', 'Tampons', 'dConfirmed', 'dInfectious', 'dDeaths', 'dRecovered', 'dHospitalized', 'dTampons', 'Death_rate']\n",
        "selected_cols = ['dConfirmed', 'dDeaths', 'dTampons', 'Hospitalized']\n",
        "filter_name = 'none'\n",
        "for col in selected_cols:\n",
        "    col_name = 'Daily new ' + col[1:] if col.startswith('d') else col\n",
        "    ep.scatter_plot_by_series(df_us_daily,\n",
        "        x_key='X', y_key=col,\n",
        "        y_filter=filter_name if col != 'Hospitalized' else 'none',\n",
        "        series_key='CountryName',\n",
        "        # legend_off=True,\n",
        "        title=\"US - \" + col_name,\n",
        "        bounds=[50, None, None, None],\n",
        "        label_x=\"Day of 2020\", label_y=col_name,\n",
        "        stamp_1=\"Since March 1, 2020\" + ((\" - filter: \" + filter_name) if (col != 'Hospitalized' and filter_name != 'none') else ''),\n",
        "    )"
      ],
      "execution_count": null,
      "outputs": []
    },
    {
      "cell_type": "markdown",
      "metadata": {
        "id": "Jg6i2wS5mUKh"
      },
      "source": [
        "## Selected Region plots"
      ]
    },
    {
      "cell_type": "code",
      "metadata": {
        "id": "7XiwaFxYmToz"
      },
      "source": [
        "# rank states by daily cases\n",
        "regions_by_daily_cases = ep.rank_data_by_metric(df_us_states_daily, metric='dConfirmed', unique_key='RegionName', unique_pick='last')\n",
        "\n",
        "# add a cases/test metric\n",
        "#df_us_states_daily['dCases/Tests'] = df_us_states_daily['dConfirmed'] / df_us_states_daily['dTampons']\n",
        "\n",
        "#region_codes = ['FL']\n",
        "region_codes = ['CA', 'AZ', 'TX', 'FL', 'GA', 'AL', 'ND']\n",
        "df_regions = []\n",
        "for region_code in region_codes:\n",
        "    df_region = df_us_states_daily[df_us_states_daily['RegionCode'] == region_code]\n",
        "    df_regions.append(df_region)\n",
        "df_us_states_subset = pd.concat(df_regions,  ignore_index=True)\n",
        "\n",
        "#all_cols = ['dCases/Tests', 'Confirmed', 'Infectious', 'Deaths', 'Recovered', 'Hospitalized', 'Tampons', 'dConfirmed', 'dInfectious', 'dDeaths', 'dRecovered', 'dHospitalized', 'dTampons', 'Death_rate']\n",
        "selected_cols = ['dConfirmed', 'dDeaths', 'dTampons', 'Hospitalized']\n",
        "filter_name = 'none'\n",
        "for col in selected_cols:\n",
        "    col_name = 'Daily new ' + col[1:] if col.startswith('d') else col\n",
        "    ep.scatter_plot_by_series(df_us_states_subset,\n",
        "        x_key='X', y_key=col,\n",
        "        y_filter=filter_name,\n",
        "        series_key='RegionName', series_names=regions_by_daily_cases['RegionName'],\n",
        "        title=\"US States - \" + col_name,\n",
        "        bounds=[115, None, 0, None],\n",
        "        label_x=\"Day of 2020\", label_y=col_name,\n",
        "        stamp_1=\"Since March 1, 2020\",\n",
        "    )"
      ],
      "execution_count": null,
      "outputs": []
    },
    {
      "cell_type": "markdown",
      "metadata": {
        "id": "FUMZNFhr1H8E"
      },
      "source": [
        "### Normalized to state population"
      ]
    },
    {
      "cell_type": "code",
      "metadata": {
        "id": "HUDNp5aP1NRe"
      },
      "source": [
        "# (population normalized) Display \"Per Million\" analysis\n",
        "selected_cols = ['dConfirmed', 'dDeaths', 'dTampons', 'Hospitalized']\n",
        "for col in selected_cols:\n",
        "    df_us_states_daily[col + 'PerMillion'] = 1E+06 * df_us_states_daily[col] / df_us_states_daily['Population']\n",
        "\n",
        "# rank states by daily cases\n",
        "#regions_by_daily_cases_per_million = ep.rank_data_by_metric(df_us_states_daily, metric='dConfirmed' + 'PerMillion', unique_key='RegionName', unique_pick='last', max_results=2)\n",
        "\n",
        "# Plot across all dimensions\n",
        "weeks = 16\n",
        "for col in selected_cols:\n",
        "    col_label = ('Daily new ' + col[1:] if col.startswith('d') else col) + \" per Million\"\n",
        "    col_key = col + 'PerMillion'\n",
        "    col_ranking = ep.rank_data_by_metric(df_us_states_daily, metric=col_key, unique_key='RegionName', unique_pick='last', max_results=22)\n",
        "    ep.scatter_plot_by_series(df_us_states_daily,\n",
        "        x_key='X', y_key=col_key,\n",
        "        y_filter='sma3' if col == 'Hospitalized' else 'sma7',\n",
        "        series_key='RegionName', series_names=col_ranking['RegionName'],\n",
        "        title=\"US States - \" + col_label,\n",
        "        bounds=[el.current_day_of_year() - 7*weeks,None, 0,None],\n",
        "        label_x=\"Day of 2020\", label_y=col_label,\n",
        "        stamp_1=('3' if col == 'Hospitalized' else '7') + \"-day moving average, last \" + str(weeks) + \" weeks\",\n",
        "    )"
      ],
      "execution_count": null,
      "outputs": []
    },
    {
      "cell_type": "markdown",
      "metadata": {
        "id": "zWANX4923GYk"
      },
      "source": [
        "## Tables for US Regions\n",
        "States ranked by higher Confirmed cases."
      ]
    },
    {
      "cell_type": "code",
      "metadata": {
        "id": "2iDEgFlv2UM9"
      },
      "source": [
        "regions_by_cases.drop(columns=['CountryCode', 'CountryName'])"
      ],
      "execution_count": null,
      "outputs": []
    },
    {
      "cell_type": "markdown",
      "metadata": {
        "id": "5TlQkHZ3Ov-I"
      },
      "source": [
        "All regions ranked by higher Mortality rates.\n",
        "\n",
        "NOTE: when confirmed cases are low ('Confirmed') in the table below, the 'Death_rate' is not significant, so it's up to you to filter and interpret the data below."
      ]
    },
    {
      "cell_type": "code",
      "metadata": {
        "id": "DfApvMtPO0ZF"
      },
      "source": [
        "regions_by_death_rate.drop(columns=['CountryCode', 'CountryName'])"
      ],
      "execution_count": null,
      "outputs": []
    }
  ]
}