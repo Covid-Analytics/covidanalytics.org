{
  "nbformat": 4,
  "nbformat_minor": 0,
  "metadata": {
    "colab": {
      "name": "US Data.ipynb",
      "provenance": [],
      "collapsed_sections": [],
      "toc_visible": true
    },
    "kernelspec": {
      "name": "python3",
      "display_name": "Python 3"
    }
  },
  "cells": [
    {
      "cell_type": "markdown",
      "metadata": {
        "id": "lVy41Nu16ko4",
        "colab_type": "text"
      },
      "source": [
        "# US Data Charting\n",
        "This workbooks analyzes and plots the latest US States data from the [COVID Tracking project](https://covidtracking.com/)."
      ]
    },
    {
      "cell_type": "code",
      "metadata": {
        "id": "aSFT9LD_XRKm",
        "colab_type": "code",
        "cellView": "code",
        "colab": {}
      },
      "source": [
        "from datetime import datetime, timedelta, timezone\n",
        "import dateutil.parser as du_parser\n",
        "import pandas as pd\n",
        "import eloader as el\n",
        "import eplotter as ep\n",
        "\n",
        "# load from the data loader helper\n",
        "(df_world_daily) = el.load_opencovid19_data()\n",
        "(df_it_daily, df_it_regional_daily) = el.load_pcmdpc_it_data()\n",
        "(df_us_daily, df_us_states_daily, df_us_states_latest) = el.load_covidtracking_us_data()\n",
        "\n",
        "df_fused_daily = el.fuse_daily_sources(df_world_daily, df_us_daily, df_it_daily)"
      ],
      "execution_count": 0,
      "outputs": []
    },
    {
      "cell_type": "markdown",
      "metadata": {
        "id": "xFHxcdomP18o",
        "colab_type": "text"
      },
      "source": [
        "## US Aggregate"
      ]
    },
    {
      "cell_type": "markdown",
      "metadata": {
        "id": "W51PjOPZknyf",
        "colab_type": "text"
      },
      "source": [
        "Confirmed cases in the US. Other countries shown as references."
      ]
    },
    {
      "cell_type": "code",
      "metadata": {
        "id": "geAQ8xpJP2zx",
        "colab_type": "code",
        "cellView": "both",
        "colab": {}
      },
      "source": [
        "# plot, ranked by Confirmed cases\n",
        "ranked_countries_by_confirmed_cases = ep.rank_data_by_metric(df_fused_daily, metric='Confirmed', unique_key='CountryCode')\n",
        "#ranked_countries_by_population = ep.rank_data_by_metric(df_fused_daily, metric='Population', unique_key='CountryCode', max_results=10)\n",
        "highlight_countries = ['United States of America', 'China', 'Italy', 'United Kingdom', 'South Korea', 'Japan', 'Brazil', 'India', 'Mexico', 'Nigeria', 'Russia']\n",
        "ep.scatter_plot_by_series(\n",
        "    df_fused_daily,\n",
        "    x_key='X', y_key='Confirmed',\n",
        "    series_key='CountryName', series_names=ranked_countries_by_confirmed_cases['CountryName'],\n",
        "    y_log=True,\n",
        "    # series_is_secondary=lambda df: df['CountryName'].any() not in list(ranked_countries_by_population['CountryName']),\n",
        "    series_is_secondary=lambda df: df['CountryName'].any() not in highlight_countries,\n",
        "    series_secondary_width=1,\n",
        "    # bounds=[64, el.date_to_day_of_year(datetime.now()) - 64 + 7, 100, None],\n",
        "    bounds=[64, None, 100, None],\n",
        "    data_labels=\"legend\", data_labels_align='right',\n",
        "    line_style_non_first_series='dotted',\n",
        "    title='US: Confirmed Cases',\n",
        "    label_x=\"Day of 2020\",\n",
        "    stamp_1='Highlighted: highly populated or reference countries'\n",
        ")"
      ],
      "execution_count": 0,
      "outputs": []
    },
    {
      "cell_type": "markdown",
      "metadata": {
        "id": "yFK6HFNqcIXi",
        "colab_type": "text"
      },
      "source": [
        "Deaths count in the US versus the rest of the world. Significant comparison points highlighted."
      ]
    },
    {
      "cell_type": "code",
      "metadata": {
        "id": "r1V-VABHcHir",
        "colab_type": "code",
        "colab": {}
      },
      "source": [
        "ep.scatter_plot_by_series(\n",
        "    df_fused_daily,\n",
        "    x_key='X', y_key='Deaths',\n",
        "    series_key='CountryName', series_names=ranked_countries_by_confirmed_cases['CountryName'],\n",
        "    y_log=True,\n",
        "    series_is_secondary=lambda df: df['CountryName'].any() not in highlight_countries,\n",
        "    series_secondary_width=1,\n",
        "    bounds=[64, None, 10, None],\n",
        "    data_labels=\"legend\", data_labels_align='right',\n",
        "    line_style_non_first_series='dotted',\n",
        "    title='US: confirmed Deaths',\n",
        "    label_x=\"Day of 2020\",\n",
        "    stamp_1='Highlighted: highly populated or reference countries'\n",
        ")"
      ],
      "execution_count": 0,
      "outputs": []
    },
    {
      "cell_type": "markdown",
      "metadata": {
        "id": "D2pJE_6tlItz",
        "colab_type": "text"
      },
      "source": [
        "### Table for US Aggregate data\n",
        "Last 10 days of aggregated data."
      ]
    },
    {
      "cell_type": "code",
      "metadata": {
        "id": "sn092bPJk52c",
        "colab_type": "code",
        "colab": {}
      },
      "source": [
        "df_fused_daily[df_fused_daily['CountryCode'] == 'US'][-10:]"
      ],
      "execution_count": 0,
      "outputs": []
    },
    {
      "cell_type": "markdown",
      "metadata": {
        "id": "-9HqZ5t99xKU",
        "colab_type": "text"
      },
      "source": [
        "## US States Charts"
      ]
    },
    {
      "cell_type": "markdown",
      "metadata": {
        "id": "C1M9fJDfMkmq",
        "colab_type": "text"
      },
      "source": [
        "The following charts are for Confirmed cases. The first represents the total number of people declared 'Positive' (which can happen even after death). Note that the statistics do not include non-observable numbers such as deaths that are now tested for the virus or people that had low symptoms and did not get tested.\n"
      ]
    },
    {
      "cell_type": "code",
      "metadata": {
        "id": "AVJ6Kjft90Cf",
        "colab_type": "code",
        "cellView": "code",
        "colab": {}
      },
      "source": [
        "# states with the highest Confirmed\n",
        "regions_by_cases = ep.rank_data_by_metric(df_us_states_daily, metric='Confirmed', unique_key='RegionName')\n",
        "confirmed_top_count = regions_by_cases['Confirmed'].iloc[0].astype(int)\n",
        "confirmed_sec_threshold = round(confirmed_top_count / 20).astype(int)\n",
        "secondary_function = lambda df: df['Confirmed'].iloc[-1] < confirmed_sec_threshold\n",
        "\n",
        "# [plot] Days sice Case 500, log\n",
        "case_intersection = 500\n",
        "ep.scatter_plot_by_series(\n",
        "    df_us_states_daily,\n",
        "    x_key='X', y_key='Confirmed',\n",
        "    series_key='RegionName', series_names=regions_by_cases['RegionName'],\n",
        "    series_is_secondary=secondary_function,\n",
        "    shift_x_to_intersect_y=case_intersection,\n",
        "    y_log=True,\n",
        "    bounds=[None, (el.date_to_day_of_year(datetime.now()) - 66) * 1.5, None, None],\n",
        "    data_labels=\"series\", data_labels_align=\"center\",\n",
        "    title='Trend since case ' + str(case_intersection) + ', for US States',\n",
        "    label_x='Days since case ' + str(case_intersection),\n",
        "    stamp_1=\"Grayed-out: low case count\"\n",
        ")"
      ],
      "execution_count": 0,
      "outputs": []
    },
    {
      "cell_type": "markdown",
      "metadata": {
        "id": "k1f7nhBWNPqZ",
        "colab_type": "text"
      },
      "source": [
        "This chart tries to bring the curves together at case #500, to see the difference in regional behavior after hitting that infection size."
      ]
    },
    {
      "cell_type": "code",
      "metadata": {
        "id": "jD-rBknFNQLo",
        "colab_type": "code",
        "colab": {}
      },
      "source": [
        "# [plot] Day of the year, all series, higher than 100\n",
        "first_day = el.date_to_day_of_year(datetime(2020, 3, 6))\n",
        "last_day = el.date_to_day_of_year(datetime.now())\n",
        "ep.scatter_plot_by_series(\n",
        "    df_us_states_daily,\n",
        "    x_key='X', y_key='Confirmed',\n",
        "    series_key='RegionName', series_names=regions_by_cases['RegionName'],\n",
        "    series_is_secondary=secondary_function,\n",
        "    series_secondary_width=1,\n",
        "    y_log=True,\n",
        "    bounds=[first_day, last_day, 100, None],\n",
        "    data_labels=\"series\", data_labels_align='right',\n",
        "    title='Confirmed cases by US State, over time',\n",
        "    label_x=\"Day of 2020\",\n",
        "    stamp_1=\"Grayed-out: low case count\"\n",
        ")"
      ],
      "execution_count": 0,
      "outputs": []
    },
    {
      "cell_type": "markdown",
      "metadata": {
        "id": "9Tbbw1skNnM2",
        "colab_type": "text"
      },
      "source": [
        "This chart shows the mortality rate, defined as: Deaths / Total Positives. There are multiple factors to take into account on the numerator (in particular non-attributed deaths) and on the denominator (for example low-symptomatic cases, and non-tested cases) so the real values for the death rates are probably different.\n",
        "\n",
        "For now this is a baseline estimation given the numbers we have."
      ]
    },
    {
      "cell_type": "code",
      "metadata": {
        "id": "8_9vrJuIBET_",
        "colab_type": "code",
        "colab": {}
      },
      "source": [
        "# Mortality\n",
        "regions_by_death_rate = ep.rank_data_by_metric(df_us_states_daily, metric='Death_rate', unique_key='RegionName')\n",
        "ep.scatter_plot_by_series(\n",
        "    df_us_states_daily,\n",
        "    x_key='X', y_key='Death_rate',\n",
        "    series_key='RegionName', series_names=regions_by_death_rate['RegionName'],\n",
        "    series_is_secondary=secondary_function, series_secondary_width=1,\n",
        "    y_filter='expo',\n",
        "    bounds=[80, None, 0, 10],\n",
        "    legend_decimals=1, legend_suffix='%',\n",
        "    data_labels=\"legend\", data_labels_align='right',\n",
        "    title=\"Death rate by US State, in the last weeks\",\n",
        "    label_x=\"Day of 2020\", label_y=\"Reported deaths / Confirmed cases (percent)\",\n",
        "    stamp_1=\"Grayed-out: states with low case count yet\"\n",
        ")"
      ],
      "execution_count": 0,
      "outputs": []
    },
    {
      "cell_type": "markdown",
      "metadata": {
        "id": "zWANX4923GYk",
        "colab_type": "text"
      },
      "source": [
        "### Tables for US Regions\n",
        "States ranked by higher Confirmed cases."
      ]
    },
    {
      "cell_type": "code",
      "metadata": {
        "id": "2iDEgFlv2UM9",
        "colab_type": "code",
        "colab": {}
      },
      "source": [
        "regions_by_cases"
      ],
      "execution_count": 0,
      "outputs": []
    },
    {
      "cell_type": "markdown",
      "metadata": {
        "id": "5TlQkHZ3Ov-I",
        "colab_type": "text"
      },
      "source": [
        "All regions ranked by higher Mortality rates.\n",
        "\n",
        "NOTE: when confirmed cases are low ('Confirmed') in the table below, the 'Death_rate' is not significant, so it's up to you to filter and interpret the data below."
      ]
    },
    {
      "cell_type": "code",
      "metadata": {
        "id": "DfApvMtPO0ZF",
        "colab_type": "code",
        "colab": {}
      },
      "source": [
        "regions_by_death_rate"
      ],
      "execution_count": 0,
      "outputs": []
    }
  ]
}