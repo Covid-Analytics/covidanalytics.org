{
  "nbformat": 4,
  "nbformat_minor": 0,
  "metadata": {
    "colab": {
      "name": "US Data.ipynb",
      "provenance": [],
      "collapsed_sections": [],
      "toc_visible": true
    },
    "kernelspec": {
      "name": "python3",
      "display_name": "Python 3"
    }
  },
  "cells": [
    {
      "cell_type": "markdown",
      "metadata": {
        "id": "lVy41Nu16ko4",
        "colab_type": "text"
      },
      "source": [
        "# US Data Charting\n",
        "This workbooks analyzes and plots the latest US States data from the [COVID Tracking project](https://covidtracking.com/)."
      ]
    },
    {
      "cell_type": "code",
      "metadata": {
        "id": "aSFT9LD_XRKm",
        "colab_type": "code",
        "cellView": "code",
        "colab": {}
      },
      "source": [
        "from datetime import datetime, timedelta, timezone\n",
        "import dateutil.parser as du_parser\n",
        "import pandas as pd\n",
        "import eloader as el\n",
        "import eplotter as ep\n",
        "\n",
        "# load from the data loader helper\n",
        "(df_regions_daily, df_regions_population) = el.load_opencovid19_data()\n",
        "(df_us_daily, df_us_states_daily, _) = el.load_covidtracking_us_data()\n",
        "(df_it_daily, _) = el.load_pcmdpc_it_data()\n",
        "\n",
        "# TEMP: remove france as it's spiking (on 6/15)\n",
        "df_regions_daily = el.filter_rows_remove_equals(df_regions_daily, 'CountryName', 'France', 'spiking inconsistently')\n",
        "\n",
        "df_countries_daily = el.fuse_daily_sources(df_regions_daily, df_us_daily, df_it_daily)\n",
        "\n",
        "# add differentials to the dataset, and cleanup\n",
        "el.add_canonical_differentials(df_countries_daily)\n",
        "df_countries_daily = el.cleanup_canonical(df_countries_daily)\n",
        "df_countries_daily = df_countries_daily.drop(columns=['dateChecked'])\n",
        "\n",
        "# also add differentials to the US States set, and cleanup\n",
        "el.add_canonical_differentials(df_us_states_daily, daily_series_col='RegionName')\n",
        "df_us_states_daily = el.cleanup_canonical(df_us_states_daily)\n",
        "df_us_states_daily = df_us_states_daily.drop(columns=['dateChecked'])"
      ],
      "execution_count": null,
      "outputs": []
    },
    {
      "cell_type": "markdown",
      "metadata": {
        "id": "xFHxcdomP18o",
        "colab_type": "text"
      },
      "source": [
        "## US Aggregate"
      ]
    },
    {
      "cell_type": "markdown",
      "metadata": {
        "id": "W51PjOPZknyf",
        "colab_type": "text"
      },
      "source": [
        "Confirmed cases in the US. Other countries shown as references."
      ]
    },
    {
      "cell_type": "code",
      "metadata": {
        "id": "geAQ8xpJP2zx",
        "colab_type": "code",
        "cellView": "both",
        "colab": {}
      },
      "source": [
        "# plot, ranked by Confirmed cases\n",
        "ranked_countries_by_confirmed_cases = ep.rank_data_by_metric(df_countries_daily, metric='Confirmed', unique_key='CountryCode')\n",
        "#ranked_countries_by_population = ep.rank_data_by_metric(df_countries_daily, metric='Population', unique_key='CountryCode', max_results=10)\n",
        "highlight_countries = ['United States of America', 'China', 'Italy', 'Spain', 'France', 'United Kingdom', 'South Korea', 'Japan', 'Brazil', 'India', 'Mexico', 'Nigeria', 'Russia', 'Chile']\n",
        "ep.scatter_plot_by_series(\n",
        "    df_countries_daily,\n",
        "    x_key='X', y_key='Confirmed',\n",
        "    series_key='CountryName', series_names=ranked_countries_by_confirmed_cases['CountryName'],\n",
        "    y_log=True,\n",
        "    # series_is_secondary=lambda df: df['CountryName'].any() not in list(ranked_countries_by_population['CountryName']),\n",
        "    series_is_secondary=lambda df: df['CountryName'].any() not in highlight_countries or df['Confirmed'].iloc[-1] < 10000,\n",
        "    series_secondary_width=1,\n",
        "    # bounds=[64, el.date_to_day_of_year(datetime.now()) - 64 + 7, 100, None],\n",
        "    bounds=[64, None, 1000, None],\n",
        "    data_labels=\"legend\", data_labels_align='right',\n",
        "    line_style_non_first_series='dotted',\n",
        "    title='US: Confirmed Cases',\n",
        "    label_x=\"Day of 2020\",\n",
        "    stamp_1='Highlighted: highly populated or reference countries'\n",
        ")"
      ],
      "execution_count": null,
      "outputs": []
    },
    {
      "cell_type": "markdown",
      "metadata": {
        "id": "yFK6HFNqcIXi",
        "colab_type": "text"
      },
      "source": [
        "Deaths count in the US versus the rest of the world. Significant comparison points highlighted."
      ]
    },
    {
      "cell_type": "code",
      "metadata": {
        "id": "r1V-VABHcHir",
        "colab_type": "code",
        "colab": {}
      },
      "source": [
        "ep.scatter_plot_by_series(\n",
        "    df_countries_daily,\n",
        "    x_key='X', y_key='Deaths',\n",
        "    series_key='CountryName', series_names=ranked_countries_by_confirmed_cases['CountryName'],\n",
        "    y_log=True,\n",
        "    series_is_secondary=lambda df: df['CountryName'].any() not in highlight_countries or df['Confirmed'].iloc[-1] < 10000,\n",
        "    series_secondary_width=1,\n",
        "    bounds=[64, None, 100, None],\n",
        "    data_labels=\"legend\", data_labels_align='right',\n",
        "    line_style_non_first_series='dotted',\n",
        "    title='US: confirmed Deaths',\n",
        "    label_x=\"Day of 2020\",\n",
        "    stamp_1='Highlighted: highly populated or reference countries'\n",
        ")"
      ],
      "execution_count": null,
      "outputs": []
    },
    {
      "cell_type": "markdown",
      "metadata": {
        "id": "D2pJE_6tlItz",
        "colab_type": "text"
      },
      "source": [
        "### Table for US Aggregate data\n",
        "Last 20 days of aggregated data."
      ]
    },
    {
      "cell_type": "code",
      "metadata": {
        "id": "sn092bPJk52c",
        "colab_type": "code",
        "colab": {}
      },
      "source": [
        "df_countries_daily[df_countries_daily['CountryCode'] == 'US'][-20:].drop(columns=['CountryCode', 'CountryName'])"
      ],
      "execution_count": null,
      "outputs": []
    },
    {
      "cell_type": "markdown",
      "metadata": {
        "id": "-9HqZ5t99xKU",
        "colab_type": "text"
      },
      "source": [
        "## US States Charts"
      ]
    },
    {
      "cell_type": "markdown",
      "metadata": {
        "id": "MHbcZtOQuEh-",
        "colab_type": "text"
      },
      "source": [
        "### Normalized by State Population"
      ]
    },
    {
      "cell_type": "markdown",
      "metadata": {
        "id": "dxyTF-NhqXCE",
        "colab_type": "text"
      },
      "source": [
        "The following charts show the infection size normalized to the population of the state, to treat states equally and understand 'how many people per million' have been infected and eventually died. Secondarily, curves are shifted to the left to make everyone start from the starting point and be able to focus on trends independently on delays on the infection on states."
      ]
    },
    {
      "cell_type": "code",
      "metadata": {
        "id": "gO1fYItNDvmV",
        "colab_type": "code",
        "colab": {}
      },
      "source": [
        "def join_with_population(df, regional_df):\n",
        "    df_reg = regional_df[['CountryCode', 'RegionCode', 'Population']]\n",
        "    return df.join(df_reg.set_index(['CountryCode', 'RegionCode']), on=['CountryCode', 'RegionCode'], lsuffix='left')\n",
        "\n",
        "\n",
        "def add_cases_per_million(df):\n",
        "    df['ConfirmedPerMillion'] = df['Confirmed'] / (df['Population'] / 1E+06)\n",
        "    df['DeathsPerMillion'] = df['Deaths'] / (df['Population'] / 1E+06)\n",
        "\n",
        "\n",
        "def ranked_scatter_plot(df, metric_col, series_col, is_selected=None, is_secondary=None, intersection_at=None,\n",
        "                        title=None, label_x=None, stamp_1=None):\n",
        "    # select the series items\n",
        "    df_selected = is_selected(df) if is_selected else df[df['Confirmed'] > 10000]\n",
        "    df_by_metric = ep.rank_data_by_metric(df_selected, metric=metric_col, unique_key=series_col)\n",
        "    y_max = int(round(df_selected[metric_col].max() * 1.1))\n",
        "\n",
        "    # if intersection, label things differently\n",
        "    if not title:\n",
        "        title = metric_col + \" by \" + series_col\n",
        "        if intersection_at: title = title + ', since crossing ' + str(intersection_at)\n",
        "    if not label_x:\n",
        "        label_x = 'Days since crossing ' + str(intersection_at)\n",
        "\n",
        "    # plot\n",
        "    ep.scatter_plot_by_series(\n",
        "        df, x_key='X', y_key=metric_col,\n",
        "        series_key=series_col, series_names=df_by_metric[series_col],\n",
        "        series_is_secondary=is_secondary if is_secondary else (lambda df: df['Population'].iloc[-1] < 1E+06 or df['Confirmed'].iloc[-1] < 8000),\n",
        "        series_secondary_width=1,\n",
        "        shift_x_to_intersect_y=intersection_at,\n",
        "        bounds=[None, el.date_to_day_of_year(datetime.now()) - 20, 0, y_max],\n",
        "        data_labels=\"series\", data_labels_align=\"center\",\n",
        "        title=title, label_x=label_x, stamp_1=stamp_1,\n",
        "    )\n",
        "\n",
        "\n",
        "# get the population, and continue where not zero\n",
        "df_per_million = join_with_population(df_us_states_daily, df_regions_population)\n",
        "df_per_million = df_per_million[df_per_million['Population'].notna()]\n",
        "add_cases_per_million(df_per_million)"
      ],
      "execution_count": null,
      "outputs": []
    },
    {
      "cell_type": "code",
      "metadata": {
        "id": "xZXCuKx4qmX0",
        "colab_type": "code",
        "colab": {}
      },
      "source": [
        "# plot Confirmed per Million, after 2%\n",
        "intersection_pct = 0.02\n",
        "intersection_at = int(intersection_pct * 1E+06 / 100)\n",
        "ranked_scatter_plot(df_per_million, 'ConfirmedPerMillion', 'RegionName', intersection_at=intersection_at,\n",
        "                    title='Confirmed Cases per Million, by US State', stamp_1='starting since crossing ' + str(intersection_at),\n",
        "                    label_x='Days since crossing \"' + str(intersection_at) + ' per million\"')"
      ],
      "execution_count": null,
      "outputs": []
    },
    {
      "cell_type": "code",
      "metadata": {
        "id": "hO03B8UGqm0L",
        "colab_type": "code",
        "colab": {}
      },
      "source": [
        "# plot Deaths per Million, after 2%\n",
        "intersection_pct = 0.001\n",
        "intersection_at = int(intersection_pct * 1E+06 / 100)\n",
        "ranked_scatter_plot(df_per_million, 'DeathsPerMillion', 'RegionName', intersection_at=intersection_at,\n",
        "                    title='Deaths per Million, by US State', stamp_1='starting since crossing ' + str(intersection_at),\n",
        "                    label_x='Days since crossing \"' + str(intersection_at) + ' per million\"')"
      ],
      "execution_count": null,
      "outputs": []
    },
    {
      "cell_type": "markdown",
      "metadata": {
        "id": "2I5iPpqsvAJH",
        "colab_type": "text"
      },
      "source": [
        "This chart shows the mortality rate, defined as: Deaths / Total Positives. There are multiple factors to take into account on the numerator (in particular non-attributed deaths) and on the denominator (for example low-symptomatic cases, and non-tested cases) so the real values for the death rates are probably different.\n",
        "\n",
        "For now this is a baseline estimation given the numbers we have."
      ]
    },
    {
      "cell_type": "code",
      "metadata": {
        "id": "WGbtsovrvSLg",
        "colab_type": "code",
        "colab": {}
      },
      "source": [
        "# states with the highest Confirmed\n",
        "regions_by_cases = ep.rank_data_by_metric(df_us_states_daily, metric='Confirmed', unique_key='RegionName')\n",
        "confirmed_top_count = regions_by_cases['Confirmed'].iloc[0].astype(int)\n",
        "confirmed_sec_threshold = round(confirmed_top_count / 30).astype(int)\n",
        "secondary_function = lambda df: df['Confirmed'].iloc[-1] < confirmed_sec_threshold"
      ],
      "execution_count": null,
      "outputs": []
    },
    {
      "cell_type": "code",
      "metadata": {
        "id": "Zg4aEE_qvAhb",
        "colab_type": "code",
        "colab": {}
      },
      "source": [
        "# Mortality\n",
        "regions_by_death_rate = ep.rank_data_by_metric(df_us_states_daily, metric='Death_rate', unique_key='RegionName')\n",
        "ep.scatter_plot_by_series(\n",
        "    df_us_states_daily,\n",
        "    x_key='X', y_key='Death_rate',\n",
        "    series_key='RegionName', series_names=regions_by_death_rate['RegionName'],\n",
        "    series_is_secondary=secondary_function, series_secondary_width=1,\n",
        "    y_filter='expo',\n",
        "    bounds=[el.current_day_of_year() - 7*12, None, 0, 10],\n",
        "    legend_decimals=1, legend_suffix='%',\n",
        "    data_labels=\"legend\", data_labels_align='right',\n",
        "    title=\"Death rate by US State, in the last 8 weeks\",\n",
        "    label_x=\"Day of 2020\", label_y=\"Reported deaths / Confirmed cases (percent)\",\n",
        "    stamp_1=\"Grayed-out: states with low case count yet\"\n",
        ")"
      ],
      "execution_count": null,
      "outputs": []
    },
    {
      "cell_type": "markdown",
      "metadata": {
        "id": "aTuTL37PuNrc",
        "colab_type": "text"
      },
      "source": [
        "### In Absolute Numbers"
      ]
    },
    {
      "cell_type": "markdown",
      "metadata": {
        "id": "WKrx2_gGqnPb",
        "colab_type": "text"
      },
      "source": [
        "The following charts are for Confirmed cases. The first represents the total number of people declared 'Positive' (which can happen even after death). Note that the statistics do not include non-observable numbers such as deaths that are now tested for the virus or people that had low symptoms and did not get tested."
      ]
    },
    {
      "cell_type": "code",
      "metadata": {
        "id": "AVJ6Kjft90Cf",
        "colab_type": "code",
        "cellView": "code",
        "colab": {}
      },
      "source": [
        "# [plot] Days sice Case 5000, log\n",
        "case_intersection = 5000\n",
        "ep.scatter_plot_by_series(\n",
        "    df_us_states_daily,\n",
        "    x_key='X', y_key='Confirmed',\n",
        "    series_key='RegionName', series_names=regions_by_cases['RegionName'],\n",
        "    series_is_secondary=secondary_function,\n",
        "    shift_x_to_intersect_y=case_intersection,\n",
        "    y_log=True,\n",
        "    bounds=[None, (el.current_day_of_year() - 66) * 1.5, None, None],\n",
        "    data_labels=\"series\", data_labels_align=\"center\",\n",
        "    title='Confirmed Cases since case ' + str(case_intersection) + ', by US State',\n",
        "    label_x='Days since case ' + str(case_intersection),\n",
        "    stamp_1=\"Grayed-out: low case count for now\"\n",
        ")"
      ],
      "execution_count": null,
      "outputs": []
    },
    {
      "cell_type": "markdown",
      "metadata": {
        "id": "k1f7nhBWNPqZ",
        "colab_type": "text"
      },
      "source": [
        "This chart tries to bring the curves together at case #500, to see the difference in regional behavior after hitting that infection size."
      ]
    },
    {
      "cell_type": "code",
      "metadata": {
        "id": "jD-rBknFNQLo",
        "colab_type": "code",
        "colab": {}
      },
      "source": [
        "# [plot] Day of the year, all series, higher than 100\n",
        "weeks = 12\n",
        "last_day = el.current_day_of_year()\n",
        "first_day = last_day - 7*weeks\n",
        "ep.scatter_plot_by_series(\n",
        "    df_us_states_daily,\n",
        "    x_key='X', y_key='Confirmed',\n",
        "    series_key='RegionName', series_names=regions_by_cases['RegionName'],\n",
        "    series_is_secondary=secondary_function,\n",
        "    series_secondary_width=1,\n",
        "    y_log=True, y_filter='expo',\n",
        "    bounds=[first_day, last_day, 1000, None],\n",
        "    data_labels=\"legend\", data_labels_align='right',\n",
        "    title='Confirmed cases by US State, last ' + str(weeks) + ' weeks',\n",
        "    label_x=\"Day of 2020\",\n",
        "    stamp_1=\"Grayed-out: low case count\"\n",
        ")"
      ],
      "execution_count": null,
      "outputs": []
    },
    {
      "cell_type": "markdown",
      "metadata": {
        "id": "jTCrkrI3rnu0",
        "colab_type": "text"
      },
      "source": [
        "This chart shows deaths by state by time."
      ]
    },
    {
      "cell_type": "code",
      "metadata": {
        "id": "veIY9C5CrnVH",
        "colab_type": "code",
        "colab": {}
      },
      "source": [
        "# [plot] Day of the year, all series, higher than 100\n",
        "ep.scatter_plot_by_series(\n",
        "    df_us_states_daily,\n",
        "    x_key='X', y_key='Deaths',\n",
        "    series_key='RegionName', series_names=regions_by_cases['RegionName'],\n",
        "    series_is_secondary=secondary_function,\n",
        "    series_secondary_width=1,\n",
        "    y_log=True, y_filter='expo',\n",
        "    bounds=[first_day, last_day, 50, None],\n",
        "    data_labels=\"legend\", data_labels_align='right',\n",
        "    title='Deaths by US State, last ' + str(weeks) + ' weeks',\n",
        "    label_x=\"Day of 2020\",\n",
        "    stamp_1=\"Grayed-out: low case count\"\n",
        ")"
      ],
      "execution_count": null,
      "outputs": []
    },
    {
      "cell_type": "markdown",
      "metadata": {
        "id": "FnYeIkij53oC",
        "colab_type": "text"
      },
      "source": [
        "## Nationwide plots"
      ]
    },
    {
      "cell_type": "code",
      "metadata": {
        "id": "JbQhpRhB59H_",
        "colab_type": "code",
        "colab": {}
      },
      "source": [
        "#df_countries_daily['dCases/Tests'] = df_countries_daily['dConfirmed'] / df_countries_daily['dTampons']\n",
        "\n",
        "# redefining df_us_daily using the countries, as it's been cleaned up and daily canonicals have been added\n",
        "df_us_daily = df_countries_daily[df_countries_daily['CountryCode'] == 'US']\n",
        "\n",
        "#all_cols = ['Confirmed', 'Infectious', 'Deaths', 'Recovered', 'Hospitalized', 'Tampons', 'dConfirmed', 'dInfectious', 'dDeaths', 'dRecovered', 'dHospitalized', 'dTampons', 'Death_rate']\n",
        "selected_cols = ['dConfirmed', 'dDeaths', 'dTampons', 'Hospitalized']\n",
        "filter_name = 'none'\n",
        "for col in selected_cols:\n",
        "    col_name = 'Daily new ' + col[1:] if col.startswith('d') else col\n",
        "    ep.scatter_plot_by_series(df_us_daily,\n",
        "        x_key='X', y_key=col,\n",
        "        y_filter=filter_name,\n",
        "        series_key='CountryName',\n",
        "        # legend_off=True,\n",
        "        title=\"US - \" + col_name,\n",
        "        bounds=[50, None, None, None],\n",
        "        label_x=\"Day of 2020\", label_y=col_name,\n",
        "        stamp_1=\"Since March 1, 2020\",\n",
        "    )"
      ],
      "execution_count": null,
      "outputs": []
    },
    {
      "cell_type": "markdown",
      "metadata": {
        "id": "Jg6i2wS5mUKh",
        "colab_type": "text"
      },
      "source": [
        "## Region plots"
      ]
    },
    {
      "cell_type": "code",
      "metadata": {
        "id": "7XiwaFxYmToz",
        "colab_type": "code",
        "colab": {}
      },
      "source": [
        "# rank states by daily cases\n",
        "regions_by_daily_cases = ep.rank_data_by_metric(df_us_states_daily, metric='dConfirmed', unique_key='RegionName', unique_pick='last')\n",
        "\n",
        "# add a cases/test metric\n",
        "df_us_states_daily['dCases/Tests'] = df_us_states_daily['dConfirmed'] / df_us_states_daily['dTampons']\n",
        "\n",
        "#region_codes = ['FL']\n",
        "region_codes = ['CA', 'AZ', 'TX', 'FL', 'GA', 'AL']\n",
        "df_regions = []\n",
        "for region_code in region_codes:\n",
        "    df_region = df_us_states_daily[df_us_states_daily['RegionCode'] == region_code]\n",
        "    df_regions.append(df_region)\n",
        "df_us_states_subset = pd.concat(df_regions,  ignore_index=True)\n",
        "\n",
        "#all_cols = ['dCases/Tests', 'Confirmed', 'Infectious', 'Deaths', 'Recovered', 'Hospitalized', 'Tampons', 'dConfirmed', 'dInfectious', 'dDeaths', 'dRecovered', 'dHospitalized', 'dTampons', 'Death_rate']\n",
        "selected_cols = ['dConfirmed', 'dDeaths', 'dTampons', 'Hospitalized'] # 'dCases/Tests'\n",
        "filter_name = 'none'\n",
        "for col in selected_cols:\n",
        "    col_name = 'Daily new ' + col[1:] if col.startswith('d') else col\n",
        "    ep.scatter_plot_by_series(df_us_states_subset,\n",
        "        x_key='X', y_key=col,\n",
        "        y_filter=filter_name,\n",
        "        series_key='RegionName', series_names=regions_by_daily_cases['RegionName'],\n",
        "        title=\"US States - \" + col_name,\n",
        "        bounds=[115, None, 0, None],\n",
        "        label_x=\"Day of 2020\", label_y=col_name,\n",
        "        stamp_1=\"Since March 1, 2020\",\n",
        "    )"
      ],
      "execution_count": null,
      "outputs": []
    },
    {
      "cell_type": "markdown",
      "metadata": {
        "id": "zWANX4923GYk",
        "colab_type": "text"
      },
      "source": [
        "## Tables for US Regions\n",
        "States ranked by higher Confirmed cases."
      ]
    },
    {
      "cell_type": "code",
      "metadata": {
        "id": "2iDEgFlv2UM9",
        "colab_type": "code",
        "colab": {}
      },
      "source": [
        "regions_by_cases.drop(columns=['CountryCode', 'CountryName'])"
      ],
      "execution_count": null,
      "outputs": []
    },
    {
      "cell_type": "markdown",
      "metadata": {
        "id": "5TlQkHZ3Ov-I",
        "colab_type": "text"
      },
      "source": [
        "All regions ranked by higher Mortality rates.\n",
        "\n",
        "NOTE: when confirmed cases are low ('Confirmed') in the table below, the 'Death_rate' is not significant, so it's up to you to filter and interpret the data below."
      ]
    },
    {
      "cell_type": "code",
      "metadata": {
        "id": "DfApvMtPO0ZF",
        "colab_type": "code",
        "colab": {}
      },
      "source": [
        "regions_by_death_rate.drop(columns=['CountryCode', 'CountryName'])"
      ],
      "execution_count": null,
      "outputs": []
    }
  ]
}