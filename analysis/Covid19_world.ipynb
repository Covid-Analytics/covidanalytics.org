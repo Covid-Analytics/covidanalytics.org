{
  "nbformat": 4,
  "nbformat_minor": 0,
  "metadata": {
    "colab": {
      "name": "Covid19_world.ipynb",
      "provenance": [],
      "collapsed_sections": []
    },
    "kernelspec": {
      "name": "python3",
      "display_name": "Python 3"
    }
  },
  "cells": [
    {
      "cell_type": "markdown",
      "metadata": {
        "id": "DqO6ur_TZioP",
        "colab_type": "text"
      },
      "source": [
        "## World Data charting"
      ]
    },
    {
      "cell_type": "code",
      "metadata": {
        "id": "ScbhpGCUR0fh",
        "colab_type": "code",
        "colab": {}
      },
      "source": [
        "from datetime import datetime, timedelta, timezone\n",
        "import dateutil.parser as du_parser\n",
        "import pandas as pd\n",
        "import eloader as el\n",
        "import eplotter as ep\n",
        "\n",
        "# load from the data loader helper\n",
        "(df_world_daily) = el.load_opencovid19_data()\n",
        "(df_it_daily, df_it_regional_daily) = el.load_pcmdpc_it_data()\n",
        "(df_us_daily, df_us_states_daily, df_us_states_latest) = el.load_covidtracking_us_data()\n",
        "\n",
        "df_fused_daily = el.fuse_daily_sources(df_world_daily, df_us_daily, df_it_daily)"
      ],
      "execution_count": 0,
      "outputs": []
    },
    {
      "cell_type": "markdown",
      "metadata": {
        "id": "e7XFVQ7zasPS",
        "colab_type": "text"
      },
      "source": [
        "### Global death rate by country"
      ]
    },
    {
      "cell_type": "code",
      "metadata": {
        "id": "w426OKa6XIcH",
        "colab_type": "code",
        "colab": {}
      },
      "source": [
        "df_over_100_deaths = df_fused_daily[df_fused_daily['Deaths'] > 500]\n",
        "countries_by_deaths = ep.rank_data_by_metric(df_over_100_deaths, metric='Death_rate', unique_key='CountryName')\n",
        "\n",
        "ep.scatter_plot_by_series(\n",
        "    _df=df_fused_daily,\n",
        "    x_key='X', y_key='Death_rate',\n",
        "    series_key='CountryName', series_names=countries_by_deaths['CountryName'],\n",
        "    series_is_secondary=(lambda df: df['Population'].iloc[-1] < 5E+06 or df['Deaths'].iloc[-1] < 500),\n",
        "    series_secondary_width=1,\n",
        "    # shift_x_to_intersect_y=5,\n",
        "    # y_log=True,\n",
        "    bounds=[70, None, 0, 14],\n",
        "    legend_decimals=1,\n",
        "    data_labels=\"legend\", data_labels_align=\"right\",\n",
        "    title=\"Death rate by Country, over time\",\n",
        "    label_x=\"Day of 2020\", label_y=\"Reported deaths / Total cases (percent)\",\n",
        "    stamp_1='Grayed-out: low population or case count',\n",
        ")"
      ],
      "execution_count": 0,
      "outputs": []
    },
    {
      "cell_type": "markdown",
      "metadata": {
        "id": "G6BK3Hc-auRA",
        "colab_type": "text"
      },
      "source": [
        "### Global confirmed cases by country"
      ]
    },
    {
      "cell_type": "code",
      "metadata": {
        "id": "NhTXUSFvXyQm",
        "colab_type": "code",
        "colab": {}
      },
      "source": [
        "df_selected_countries = df_fused_daily[df_fused_daily['Confirmed'] > 1000]\n",
        "ranked_countries_by_cases = ep.rank_data_by_metric(df_selected_countries, metric='Confirmed', unique_key='CountryName')\n",
        "\n",
        "intersection_at=4000\n",
        "ep.scatter_plot_by_series(\n",
        "    _df=df_fused_daily,\n",
        "    x_key='X', y_key='Confirmed',\n",
        "    series_key='CountryName', series_names=ranked_countries_by_cases['CountryName'],\n",
        "    series_is_secondary=(lambda df: df['Population'].iloc[-1] < 5E+06 or df['Confirmed'].iloc[-1] < 2*intersection_at),\n",
        "    series_secondary_width=1,\n",
        "    shift_x_to_intersect_y=intersection_at,\n",
        "    y_log=True,\n",
        "    data_labels=\"series\", data_labels_align=\"center\",\n",
        "    title='Confirmed cases by country, since crossing ' + str(intersection_at),\n",
        "    label_x='Days since case one thousand',\n",
        ")"
      ],
      "execution_count": 0,
      "outputs": []
    },
    {
      "cell_type": "code",
      "metadata": {
        "id": "aKacLYj6dQCh",
        "colab_type": "code",
        "colab": {}
      },
      "source": [
        "ep.scatter_plot_by_series(\n",
        "    _df=df_fused_daily,\n",
        "    x_key='X', y_key='Confirmed',\n",
        "    series_key='CountryName', series_names=ranked_countries_by_cases['CountryName'],\n",
        "    series_is_secondary=(lambda df: df['Population'].iloc[-1] < 20E+06 or df['Confirmed'].iloc[-1] < 5000),\n",
        "    series_secondary_width=1,\n",
        "    y_log=True,\n",
        "    bounds=[el.date_to_day_of_year(datetime(2020, 2, 15)),None, 100,300000],\n",
        "    legend_decimals=0,\n",
        "    data_labels=\"series\", data_labels_align=\"right\",\n",
        "    title='Confirmed cases by country, since Feb 15, 2020',\n",
        "    label_x='Day of the year, 2020',\n",
        "    stamp_1='Grayed-out: low population or case count',\n",
        ")"
      ],
      "execution_count": 0,
      "outputs": []
    }
  ]
}