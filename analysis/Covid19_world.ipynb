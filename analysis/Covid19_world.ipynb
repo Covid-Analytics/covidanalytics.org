{
  "nbformat": 4,
  "nbformat_minor": 0,
  "metadata": {
    "colab": {
      "name": "Covid19_world.ipynb",
      "provenance": [],
      "collapsed_sections": [],
      "toc_visible": true
    },
    "kernelspec": {
      "name": "python3",
      "display_name": "Python 3"
    }
  },
  "cells": [
    {
      "cell_type": "markdown",
      "metadata": {
        "id": "DqO6ur_TZioP",
        "colab_type": "text"
      },
      "source": [
        "## World Data analysis"
      ]
    },
    {
      "cell_type": "code",
      "metadata": {
        "id": "ScbhpGCUR0fh",
        "colab_type": "code",
        "colab": {}
      },
      "source": [
        "from datetime import datetime, timedelta, timezone\n",
        "import dateutil.parser as du_parser\n",
        "import pandas as pd\n",
        "import eloader as el\n",
        "import eplotter as ep\n",
        "\n",
        "# load from the data loader helper\n",
        "(df_regions_daily, _) = el.load_opencovid19_data()\n",
        "(df_it_daily, _) = el.load_pcmdpc_it_data()\n",
        "(df_us_daily, _, _) = el.load_covidtracking_us_data()\n",
        "\n",
        "# TEMP: remove france as it's spiking (on 6/15)\n",
        "df_regions_daily = el.filter_rows_remove_equals(df_regions_daily, 'CountryName', 'France', 'spiking inconsisntently')\n",
        "# TEMP: remove Iraq as the death rate is inconsistent\n",
        "df_regions_daily = el.filter_rows_remove_equals(df_regions_daily, 'CountryName', 'Iraq', 'death rate is inconsistent')\n",
        "\n",
        "# TEMP: focus analysis only on a specific country (Plus Italy, US)\n",
        "select_country = None #'Mexico'\n",
        "if select_country is not None:\n",
        "    df_regions_daily = df_regions_daily[df_regions_daily['CountryName'] == select_country]\n",
        "\n",
        "# Fuse daily data, and add missing data\n",
        "df_fused_daily = el.fuse_daily_sources(df_regions_daily, df_us_daily, df_it_daily)\n",
        "el.add_canonical_differentials(df_fused_daily)"
      ],
      "execution_count": null,
      "outputs": []
    },
    {
      "cell_type": "markdown",
      "metadata": {
        "id": "e7XFVQ7zasPS",
        "colab_type": "text"
      },
      "source": [
        "### Global death rate by country\n",
        "For countries with more than a thousand deaths."
      ]
    },
    {
      "cell_type": "code",
      "metadata": {
        "id": "w426OKa6XIcH",
        "colab_type": "code",
        "colab": {}
      },
      "source": [
        "df_over_1000_deaths = df_fused_daily[df_fused_daily['Deaths'] > 1000]\n",
        "countries_by_deaths = ep.rank_data_by_metric(df_over_1000_deaths, metric='Death_rate', unique_key='CountryName', max_results=25)\n",
        "\n",
        "ep.scatter_plot_by_series(\n",
        "    _df=df_fused_daily,\n",
        "    x_key='X', y_key='Death_rate',\n",
        "    series_key='CountryName', series_names=countries_by_deaths['CountryName'],\n",
        "    series_is_secondary=(lambda df: df['Population'].iloc[-1] < 5E+06 or df['Deaths'].iloc[-1] < 500),\n",
        "    series_secondary_width=1,\n",
        "    # shift_x_to_intersect_y=5,\n",
        "    # y_log=True,\n",
        "    y_filter='expo',\n",
        "    bounds=[80, None, 0, 18],\n",
        "    legend_decimals=1, legend_suffix='%',\n",
        "    data_labels=\"legend\", data_labels_align=\"right\",\n",
        "    title=\"Death rate (deaths/cases) by Country, over time\",\n",
        "    label_x=\"Day of 2020\", label_y=\"Reported deaths / Total cases (percent)\",\n",
        "    stamp_1='Grayed-out: low population or case count',\n",
        ")"
      ],
      "execution_count": null,
      "outputs": []
    },
    {
      "cell_type": "markdown",
      "metadata": {
        "id": "G6BK3Hc-auRA",
        "colab_type": "text"
      },
      "source": [
        "### Global confirmed cases by country"
      ]
    },
    {
      "cell_type": "code",
      "metadata": {
        "id": "NhTXUSFvXyQm",
        "colab_type": "code",
        "colab": {}
      },
      "source": [
        "df_over_10000_cases = df_fused_daily[df_fused_daily['Confirmed'] > 10000]\n",
        "ranked_countries_by_cases = ep.rank_data_by_metric(df_over_10000_cases, metric='Confirmed', unique_key='CountryName', max_results=60)\n",
        "\n",
        "intersection_at=10000\n",
        "ep.scatter_plot_by_series(\n",
        "    _df=df_fused_daily,\n",
        "    x_key='X', y_key='Confirmed',\n",
        "    series_key='CountryName', series_names=ranked_countries_by_cases['CountryName'],\n",
        "    series_is_secondary=(lambda df: df['Population'].iloc[-1] < 1E+06 or df['Confirmed'].iloc[-1] < 1*intersection_at),\n",
        "    series_secondary_width=1,\n",
        "    shift_x_to_intersect_y=intersection_at,\n",
        "    y_log=True,\n",
        "    bounds=[0, el.current_day_of_year()-40, None, ranked_countries_by_cases['Confirmed'].iloc[0]*1.0],\n",
        "    legend_off=True,\n",
        "    data_labels=\"legend\", data_labels_align=\"left\",\n",
        "    title='Confirmed cases (log, since crossing ' + str(intersection_at) + ')',\n",
        "    label_x='Days since case ' + str(intersection_at),\n",
        ")"
      ],
      "execution_count": null,
      "outputs": []
    },
    {
      "cell_type": "code",
      "metadata": {
        "id": "aKacLYj6dQCh",
        "colab_type": "code",
        "colab": {}
      },
      "source": [
        "ep.scatter_plot_by_series(\n",
        "    _df=df_fused_daily,\n",
        "    x_key='X', y_key='Confirmed',\n",
        "    series_key='CountryName', series_names=ranked_countries_by_cases['CountryName'],\n",
        "    series_is_secondary=(lambda df: df['Population'].iloc[-1] < 40E+06 or df['Confirmed'].iloc[-1] < 10000),\n",
        "    series_secondary_width=1,\n",
        "    y_log=True,\n",
        "    bounds=[el.date_to_day_of_year(datetime(2020, 2, 15)),None, 10000,None],\n",
        "    legend_decimals=0,\n",
        "    data_labels=\"series\", data_labels_align=\"right\",\n",
        "    title='Confirmed cases by country, since Feb 15, 2020',\n",
        "    label_x='Day of the year, 2020',\n",
        "    stamp_1='Grayed-out: population < 40M',\n",
        ")"
      ],
      "execution_count": null,
      "outputs": []
    },
    {
      "cell_type": "markdown",
      "metadata": {
        "id": "0saJM5aKeksB",
        "colab_type": "text"
      },
      "source": [
        "### Population-normalized Confirmed and Death numbers (linear)"
      ]
    },
    {
      "cell_type": "markdown",
      "metadata": {
        "id": "iYdVpVJbWRH2",
        "colab_type": "text"
      },
      "source": [
        "For these plots, we use the countries where there have been at least 5,000 confirmed cases, which has been choosen for 'signal to noise' purposes, and will need to be raised in the future."
      ]
    },
    {
      "cell_type": "code",
      "metadata": {
        "id": "g2XMuUnZV8If",
        "colab_type": "code",
        "colab": {}
      },
      "source": [
        "# add two fields to the data frame\n",
        "df_fused_daily['ConfirmedPerMillion'] = df_fused_daily['Confirmed'] / (df_fused_daily['Population'] / 1E+06)\n",
        "df_fused_daily['DeathsPerMillion'] = df_fused_daily['Deaths'] / (df_fused_daily['Population'] / 1E+06)\n",
        "\n",
        "# Remove countries that are anomalies as of 6/15\n",
        "df_pm = el.filter_rows_remove_equals(df_fused_daily, 'CountryName', 'Qatar', 'high due to testing')\n",
        "df_pm = el.filter_rows_remove_equals(df_pm, 'CountryName', 'Bahrain', 'high due to testing')\n",
        "#df_pm=df_fused_daily\n",
        "\n",
        "# rank countries by {confirmed, deats}/1M people\n",
        "df_over_5000_cases = df_pm[df_pm['Confirmed'] > 5000]\n",
        "df_ranked_countries_by_cases_per_million = ep.rank_data_by_metric(df_over_5000_cases, metric='ConfirmedPerMillion', unique_key='CountryName', max_results=25)\n",
        "df_ranked_countries_by_deaths_per_million = ep.rank_data_by_metric(df_over_5000_cases, metric='DeathsPerMillion', unique_key='CountryName', max_results=25)\n",
        "\n",
        "# get the maximums amongst the ranked (for scaling purposes)\n",
        "max_infected_per_million = int(round(df_over_5000_cases['ConfirmedPerMillion'].max() * 1.1))\n",
        "max_deaths_per_million = int(round(df_over_5000_cases['DeathsPerMillion'].max() * 1.1))"
      ],
      "execution_count": null,
      "outputs": []
    },
    {
      "cell_type": "markdown",
      "metadata": {
        "id": "6eUpMgFKXBHb",
        "colab_type": "text"
      },
      "source": [
        "We first see the trends, shifting countries until they reach a common infection rate."
      ]
    },
    {
      "cell_type": "code",
      "metadata": {
        "id": "bG7cusU5Q8To",
        "colab_type": "code",
        "colab": {}
      },
      "source": [
        "intersection_pct=0.2 # 0.1%\n",
        "intersection_at=int(intersection_pct * 1E+06 / 100)\n",
        "\n",
        "ep.scatter_plot_by_series(\n",
        "    _df=df_pm,\n",
        "    x_key='X', y_key='ConfirmedPerMillion',\n",
        "    series_key='CountryName', series_names=df_ranked_countries_by_cases_per_million['CountryName'],\n",
        "    series_is_secondary=(lambda df: df['Population'].iloc[-1] < 1E+06 or df['Confirmed'].iloc[-1] < 5000),\n",
        "    series_secondary_width=1,\n",
        "    shift_x_to_intersect_y=intersection_at,\n",
        "    bounds=[None, el.current_day_of_year() - 15, 0, max_infected_per_million],\n",
        "    data_labels=\"series\", data_labels_align=\"left\",\n",
        "    title='Confirmed cases per 1M people, since crossing ' + str(intersection_at) + \" (\" + str(intersection_pct) + '%)',\n",
        "    label_x='Days since crossing ' + str(intersection_at),\n",
        "    stamp_1='Excluding Qatar, Bahrain',\n",
        ")"
      ],
      "execution_count": null,
      "outputs": []
    },
    {
      "cell_type": "markdown",
      "metadata": {
        "id": "uDpoBS3YXKnR",
        "colab_type": "text"
      },
      "source": [
        "Time plot of normalized confirmed cases:"
      ]
    },
    {
      "cell_type": "code",
      "metadata": {
        "id": "7DQWlpu7en_-",
        "colab_type": "code",
        "colab": {}
      },
      "source": [
        "ep.scatter_plot_by_series(\n",
        "    _df=df_pm,\n",
        "    x_key='X', y_key='ConfirmedPerMillion',\n",
        "    series_key='CountryName', series_names=df_ranked_countries_by_cases_per_million['CountryName'],\n",
        "    series_is_secondary=(lambda df: df['ConfirmedPerMillion'].iloc[-1] < 2000 and df['Confirmed'].iloc[-1] < 10000),\n",
        "    series_secondary_width=1,\n",
        "    bounds=[el.date_to_day_of_year(datetime(2020, 3, 10)), None, 0, max_infected_per_million],\n",
        "    data_labels=\"legend\", data_labels_align=\"right\",\n",
        "    title='Confirmed cases per 1M population',\n",
        "    label_x='Day of the year, 2020',\n",
        "    stamp_1='Excluding Qatar, Bahrain',\n",
        ")"
      ],
      "execution_count": null,
      "outputs": []
    },
    {
      "cell_type": "markdown",
      "metadata": {
        "id": "fJj9gdsAn25a",
        "colab_type": "text"
      },
      "source": [
        "Trends plot of normalized deaths:"
      ]
    },
    {
      "cell_type": "code",
      "metadata": {
        "id": "ibeZz9l-n2qY",
        "colab_type": "code",
        "colab": {}
      },
      "source": [
        "intersection_pct=0.005 # 0.1%\n",
        "intersection_at=int(intersection_pct * 1E+06 / 100)\n",
        "\n",
        "ep.scatter_plot_by_series(df_pm,\n",
        "    x_key='X', y_key='DeathsPerMillion',\n",
        "    series_key='CountryName', series_names=df_ranked_countries_by_deaths_per_million['CountryName'],\n",
        "    series_is_secondary=(lambda df: df['Population'].iloc[-1] < 1E+06 or df['Confirmed'].iloc[-1] < 5000),\n",
        "    series_secondary_width=1,\n",
        "    shift_x_to_intersect_y=intersection_at,\n",
        "    bounds=[60, el.current_day_of_year() - 30, 0, max_deaths_per_million],\n",
        "    data_labels=\"series\", data_labels_align=\"left\",\n",
        "    title='Deaths per Million, since crossing ' + str(intersection_at),\n",
        "    label_x='Days since crossing ' + str(intersection_at),\n",
        "    stamp_1='Excluding Qatar, Bahrain',\n",
        ")"
      ],
      "execution_count": null,
      "outputs": []
    },
    {
      "cell_type": "markdown",
      "metadata": {
        "id": "Ip9H-MAnXU-C",
        "colab_type": "text"
      },
      "source": [
        "Time plot of normalized deaths:"
      ]
    },
    {
      "cell_type": "code",
      "metadata": {
        "id": "5wNzMuKterY9",
        "colab_type": "code",
        "colab": {}
      },
      "source": [
        "ep.scatter_plot_by_series(\n",
        "    _df=df_pm,\n",
        "    x_key='X', y_key='DeathsPerMillion',\n",
        "    series_key='CountryName', series_names=df_ranked_countries_by_deaths_per_million['CountryName'],\n",
        "    series_is_secondary=(lambda df: df['DeathsPerMillion'].iloc[-1] < 50 and df['Confirmed'].iloc[-1] < 10000),\n",
        "    series_secondary_width=1,\n",
        "    # y_log=True,\n",
        "    bounds=[el.date_to_day_of_year(datetime(2020, 3, 10)), None, 0, max_deaths_per_million],\n",
        "    # legend_decimals=1,\n",
        "    data_labels=\"legend\", data_labels_align=\"right\",\n",
        "    title='Deaths per Million',\n",
        "    label_x='Day of the year, 2020',\n",
        "    stamp_1='Excluding Qatar, Bahrain',\n",
        ")"
      ],
      "execution_count": null,
      "outputs": []
    },
    {
      "cell_type": "markdown",
      "metadata": {
        "id": "N9pvshovafAV",
        "colab_type": "text"
      },
      "source": [
        "Infections and deaths per million (latest data), ranked by Infections/M.\n",
        "\n",
        "For countries with at least 5,000 cases."
      ]
    },
    {
      "cell_type": "code",
      "metadata": {
        "id": "3eYgUtaBakjI",
        "colab_type": "code",
        "colab": {}
      },
      "source": [
        "df_ranked_countries_by_cases_per_million[['Date', 'CountryName', 'Confirmed', 'Deaths', 'Population', 'ConfirmedPerMillion', 'DeathsPerMillion', 'Death_rate']]"
      ],
      "execution_count": null,
      "outputs": []
    },
    {
      "cell_type": "code",
      "metadata": {
        "id": "ASLhU8ve5Ysl",
        "colab_type": "code",
        "colab": {}
      },
      "source": [
        "df_fused_daily[df_fused_daily['CountryName'] == 'United States of America']"
      ],
      "execution_count": null,
      "outputs": []
    }
  ]
}