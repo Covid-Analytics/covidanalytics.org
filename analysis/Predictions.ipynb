{
  "nbformat": 4,
  "nbformat_minor": 0,
  "metadata": {
    "colab": {
      "name": "Predictions.ipynb",
      "provenance": [],
      "collapsed_sections": [],
      "toc_visible": true
    },
    "kernelspec": {
      "name": "python3",
      "display_name": "Python 3"
    }
  },
  "cells": [
    {
      "cell_type": "markdown",
      "metadata": {
        "id": "1LiPhIFWQS6E",
        "colab_type": "text"
      },
      "source": [
        "# Live projections of the steady state for the COVID19 pandemic"
      ]
    },
    {
      "cell_type": "markdown",
      "metadata": {
        "id": "-1nUMjImQa5C",
        "colab_type": "text"
      },
      "source": [
        "## Import the latest data\n",
        " * The world data comes from the Open-Covid-19 Github Projects\n",
        " * The US data comes from the https://www.covidtracking.com project\n",
        " * The Italian data comes from https://github.com/pcm-dpc/COVID-19, the official github account of the department of the Civil Protection Department of the Italian government.\n"
      ]
    },
    {
      "cell_type": "code",
      "metadata": {
        "id": "ijwdlsvIA6Fb",
        "colab_type": "code",
        "colab": {}
      },
      "source": [
        "from datetime import datetime, timedelta, timezone\n",
        "import dateutil.parser as du_parser\n",
        "import pandas as pd\n",
        "import eloader as el\n",
        "\n",
        "# configuration: countries to analyze\n",
        "COUNTRIES = ['Italy', 'South Korea', 'China', 'United States of America', 'India', 'Brazil']\n",
        "X_KEY='X'\n",
        "\n",
        "# load from the data loader helper\n",
        "(df_world_daily, _) = el.load_opencovid19_data()\n",
        "(df_us_daily, _, _) = el.load_covidtracking_us_data()\n",
        "(df_it_daily, _) = el.load_pcmdpc_it_data()\n",
        "\n",
        "df_countries_daily = el.fuse_daily_sources(df_world_daily, df_us_daily, df_it_daily)\n",
        "el.add_canonical_differentials(df_countries_daily)\n",
        "df_countries_daily = el.cleanup_canonical(df_countries_daily)\n",
        "\n",
        "df_logistics = df_countries_daily[['X', 'Confirmed', 'Recovered', 'Deaths', 'Hospitalized', 'CountryName']]"
      ],
      "execution_count": 0,
      "outputs": []
    },
    {
      "cell_type": "markdown",
      "metadata": {
        "id": "2hGy2w5hG9WB",
        "colab_type": "text"
      },
      "source": [
        "## Predicting the size of the infection\n",
        "We use a logistic model and fit it to the data. Granted that the logistic model will differ from reality, but it's an easy and explainable model that can be used for now to model the slow spread of the virus to a population."
      ]
    },
    {
      "cell_type": "code",
      "metadata": {
        "id": "29NhYb4WBHxr",
        "colab_type": "code",
        "colab": {}
      },
      "source": [
        "import numpy as np\n",
        "from scipy.optimize import curve_fit, fsolve\n",
        "\n",
        "def logistic_model(x, a, b, c):\n",
        "    return c / (1 + np.exp(-(x - b) / a))\n",
        "\n",
        "\n",
        "def logistic_model_modified(x, a, b, c, d, e):\n",
        "    return c / (1 + np.exp(-(x - b) / a)) + d * (x - b) + e\n",
        "\n",
        "\n",
        "# fit the data to the model (find the model variables that best approximate)\n",
        "def predict_logistic_maximum(df, y_key):\n",
        "    samples = df.shape[0]\n",
        "    x_days = df[X_KEY].tolist()\n",
        "    y_cases = df[y_key].tolist()\n",
        "    initial_guess = 5, 90, 200000 # speed, peak, amplitude\n",
        "\n",
        "    fit = curve_fit(logistic_model, x_days, y_cases, p0=initial_guess, maxfev=9999)\n",
        "\n",
        "    # parse the result of the fit\n",
        "    speed, x_peak, y_max = fit[0]\n",
        "    speed_error, x_peak_error, y_max_error = [np.sqrt(fit[1][i][i]) for i in [0, 1, 2]]\n",
        "\n",
        "    # find the \"end date\", as the x (day of year) where the function reaches 99.99%\n",
        "    end = int(fsolve(lambda x: logistic_model(x, speed, x_peak, y_max) - y_max * 0.9999, x_peak))\n",
        "\n",
        "    return x_days, y_cases, speed, x_peak, y_max, x_peak_error, y_max_error, end, samples\n",
        "\n",
        "\n",
        "# print results\n",
        "def print_prediction(df, y_key, label):\n",
        "    x, y, speed, x_peak, y_max, x_peak_error, y_max_error, end, samples = predict_logistic_maximum(df, y_key)\n",
        "    print(label + \"'s prediction: \" +\n",
        "          \"maximum cases: \" + str(int(round(y_max))) +\n",
        "          \" (± \" + str(int(round(y_max_error))) + \")\" +\n",
        "          \", peak at calendar day: \" + str(int(round(x_peak))) +\n",
        "          \" (± \" + str(round(x_peak_error, 2)) + \")\" +\n",
        "          \", ending on calendar day: \" + str(end))\n",
        "    return y_max\n",
        "\n",
        "\n",
        "for country_name in COUNTRIES:\n",
        "    df = df_logistics[df_logistics['CountryName'] == country_name]\n",
        "    print(country_name + ':')\n",
        "    print_prediction(df[:-2], 'Confirmed', \"  2 days ago\")\n",
        "    print_prediction(df[:-1], 'Confirmed', \"  yesterday\")\n",
        "    pred = print_prediction(df, 'Confirmed', \"  today\")\n",
        "    print()"
      ],
      "execution_count": 0,
      "outputs": []
    },
    {
      "cell_type": "markdown",
      "metadata": {
        "id": "fo5T5yRWUbqh",
        "colab_type": "text"
      },
      "source": [
        "### Plot 1. data & projections, for today and the former 2 days"
      ]
    },
    {
      "cell_type": "code",
      "metadata": {
        "id": "Bs6Vnr8ITGOT",
        "colab_type": "code",
        "colab": {}
      },
      "source": [
        "import matplotlib.pyplot as plt\n",
        "plt.rc('font', size=14)\n",
        "\n",
        "\n",
        "def add_real_data(df, y_key, label, color=None):\n",
        "    x = df[X_KEY].tolist()\n",
        "    y = df[y_key].tolist()\n",
        "    plt.scatter(x, y, label=\"Data (\" + label + \")\", c=color)\n",
        "\n",
        "\n",
        "def add_logistic_curve(df, y_key, label, **kwargs):\n",
        "    x, _, speed, x_peak, y_max, _, _, end, _ = predict_logistic_maximum(df, y_key)\n",
        "    x_range = list(range(int(min(x)), int(end)))\n",
        "    plt.plot(x_range,\n",
        "             [logistic_model(i, speed, x_peak, y_max) for i in x_range],\n",
        "             label=\"Logistic model (\" + label + \"): \" + str(int(round(y_max))),\n",
        "             **kwargs)\n",
        "    return y_max\n",
        "\n",
        "\n",
        "def label_and_show_plot(plt, title, y_max=None):\n",
        "    plt.title(title)\n",
        "    plt.xlabel(\"Day of the year, 2020\")\n",
        "    # plt.ylabel(\"Total number of infected people\")\n",
        "    if (y_max):\n",
        "        plt.ylim(0, y_max * 1.1)\n",
        "    plt.legend()\n",
        "    plt.show()\n",
        "\n",
        "\n",
        "# Plot2\n",
        "for country_name in COUNTRIES:\n",
        "    df_country = df_logistics[df_logistics['CountryName'] == country_name]\n",
        "    for metric_name in ['Confirmed', 'Deaths']:\n",
        "        \n",
        "        df = df_country[[X_KEY, metric_name]]\n",
        "        df = df[df[metric_name].notna()]\n",
        "        if df.empty: continue\n",
        "\n",
        "        plt.rc('font', size=14)\n",
        "        fig = plt.figure(figsize=(14, 10))\n",
        "        fig.patch.set_facecolor('white')\n",
        "        add_real_data(df[:-2], metric_name, \"2 days ago\")\n",
        "        add_real_data(df[-2:-1], metric_name, \"yesterday\")\n",
        "        add_real_data(df[-1:], metric_name, \"today\")\n",
        "        add_logistic_curve(df[:-2], metric_name, \"2 days ago\", dashes=[8, 8])\n",
        "        add_logistic_curve(df[:-1], metric_name, \"yesterday\", dashes=[4, 4])\n",
        "        y_max = add_logistic_curve(df, metric_name, \"today\")\n",
        "        label_and_show_plot(plt, country_name + \" - \" + metric_name + \" forecast\", y_max)"
      ],
      "execution_count": 0,
      "outputs": []
    }
  ]
}